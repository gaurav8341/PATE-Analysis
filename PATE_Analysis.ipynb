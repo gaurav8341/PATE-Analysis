{
  "nbformat": 4,
  "nbformat_minor": 0,
  "metadata": {
    "colab": {
      "name": "PATE-Analysis.ipynb",
      "version": "0.3.2",
      "provenance": [],
      "collapsed_sections": [],
      "machine_shape": "hm",
      "include_colab_link": true
    },
    "kernelspec": {
      "name": "python3",
      "display_name": "Python 3"
    },
    "accelerator": "GPU"
  },
  "cells": [
    {
      "cell_type": "markdown",
      "metadata": {
        "id": "view-in-github",
        "colab_type": "text"
      },
      "source": [
        "<a href=\"https://colab.research.google.com/github/gaurav8341/PATE-Analysis/blob/master/PATE_Analysis.ipynb\" target=\"_parent\"><img src=\"https://colab.research.google.com/assets/colab-badge.svg\" alt=\"Open In Colab\"/></a>"
      ]
    },
    {
      "cell_type": "code",
      "metadata": {
        "id": "xfKBspHhdJl8",
        "colab_type": "code",
        "colab": {
          "base_uri": "https://localhost:8080/",
          "height": 1000
        },
        "outputId": "e5653500-5517-47be-918b-5825fa68d197"
      },
      "source": [
        "!pip install syft\n"
      ],
      "execution_count": 1,
      "outputs": [
        {
          "output_type": "stream",
          "text": [
            "Collecting syft\n",
            "\u001b[?25l  Downloading https://files.pythonhosted.org/packages/38/2e/16bdefc78eb089e1efa9704c33b8f76f035a30dc935bedd7cbb22f6dabaa/syft-0.1.21a1-py3-none-any.whl (219kB)\n",
            "\u001b[K     |████████████████████████████████| 225kB 3.5MB/s \n",
            "\u001b[?25hRequirement already satisfied: numpy>=1.14.0 in /usr/local/lib/python3.6/dist-packages (from syft) (1.16.4)\n",
            "Collecting lz4>=2.1.6 (from syft)\n",
            "\u001b[?25l  Downloading https://files.pythonhosted.org/packages/0a/c6/96bbb3525a63ebc53ea700cc7d37ab9045542d33b4d262d0f0408ad9bbf2/lz4-2.1.10-cp36-cp36m-manylinux1_x86_64.whl (385kB)\n",
            "\u001b[K     |████████████████████████████████| 389kB 58.6MB/s \n",
            "\u001b[?25hCollecting msgpack>=0.6.1 (from syft)\n",
            "\u001b[?25l  Downloading https://files.pythonhosted.org/packages/92/7e/ae9e91c1bb8d846efafd1f353476e3fd7309778b582d2fb4cea4cc15b9a2/msgpack-0.6.1-cp36-cp36m-manylinux1_x86_64.whl (248kB)\n",
            "\u001b[K     |████████████████████████████████| 256kB 53.7MB/s \n",
            "\u001b[?25hCollecting websockets>=7.0 (from syft)\n",
            "\u001b[?25l  Downloading https://files.pythonhosted.org/packages/c1/d2/bf72435a7d56f94b57efdeae26c76bf0d16f409fd44ff595da745c3fbefd/websockets-8.0.1-cp36-cp36m-manylinux1_x86_64.whl (72kB)\n",
            "\u001b[K     |████████████████████████████████| 81kB 33.8MB/s \n",
            "\u001b[?25hCollecting zstd>=1.4.0.0 (from syft)\n",
            "\u001b[?25l  Downloading https://files.pythonhosted.org/packages/22/37/6a7ba746ebddbd6cd06de84367515d6bc239acd94fb3e0b1c85788176ca2/zstd-1.4.1.0.tar.gz (454kB)\n",
            "\u001b[K     |████████████████████████████████| 460kB 53.6MB/s \n",
            "\u001b[?25hCollecting websocket-client>=0.56.0 (from syft)\n",
            "\u001b[?25l  Downloading https://files.pythonhosted.org/packages/29/19/44753eab1fdb50770ac69605527e8859468f3c0fd7dc5a76dd9c4dbd7906/websocket_client-0.56.0-py2.py3-none-any.whl (200kB)\n",
            "\u001b[K     |████████████████████████████████| 204kB 51.2MB/s \n",
            "\u001b[?25hRequirement already satisfied: Flask>=1.0.2 in /usr/local/lib/python3.6/dist-packages (from syft) (1.1.1)\n",
            "Requirement already satisfied: torch>=1.1 in /usr/local/lib/python3.6/dist-packages (from syft) (1.1.0)\n",
            "Requirement already satisfied: tblib>=1.4.0 in /usr/local/lib/python3.6/dist-packages (from syft) (1.4.0)\n",
            "Collecting tf-encrypted>=0.5.4 (from syft)\n",
            "\u001b[?25l  Downloading https://files.pythonhosted.org/packages/55/ff/7dbd5fc77fcec0df1798268a6b72a2ab0150b854761bc39c77d566798f0b/tf_encrypted-0.5.7-py3-none-manylinux1_x86_64.whl (2.1MB)\n",
            "\u001b[K     |████████████████████████████████| 2.1MB 57.2MB/s \n",
            "\u001b[?25hCollecting flask-socketio>=3.3.2 (from syft)\n",
            "  Downloading https://files.pythonhosted.org/packages/33/31/f779e69e59f528684d8c9925b3c82a9303d148655d9671ba2975ab8c3894/Flask_SocketIO-4.2.0-py2.py3-none-any.whl\n",
            "Requirement already satisfied: scikit-learn>=0.21.0 in /usr/local/lib/python3.6/dist-packages (from syft) (0.21.2)\n",
            "Requirement already satisfied: torchvision>=0.3.0 in /usr/local/lib/python3.6/dist-packages (from syft) (0.3.0)\n",
            "Requirement already satisfied: six in /usr/local/lib/python3.6/dist-packages (from websocket-client>=0.56.0->syft) (1.12.0)\n",
            "Requirement already satisfied: Werkzeug>=0.15 in /usr/local/lib/python3.6/dist-packages (from Flask>=1.0.2->syft) (0.15.5)\n",
            "Requirement already satisfied: click>=5.1 in /usr/local/lib/python3.6/dist-packages (from Flask>=1.0.2->syft) (7.0)\n",
            "Requirement already satisfied: Jinja2>=2.10.1 in /usr/local/lib/python3.6/dist-packages (from Flask>=1.0.2->syft) (2.10.1)\n",
            "Requirement already satisfied: itsdangerous>=0.24 in /usr/local/lib/python3.6/dist-packages (from Flask>=1.0.2->syft) (1.1.0)\n",
            "Collecting pyyaml>=5.1 (from tf-encrypted>=0.5.4->syft)\n",
            "\u001b[?25l  Downloading https://files.pythonhosted.org/packages/a3/65/837fefac7475963d1eccf4aa684c23b95aa6c1d033a2c5965ccb11e22623/PyYAML-5.1.1.tar.gz (274kB)\n",
            "\u001b[K     |████████████████████████████████| 276kB 66.4MB/s \n",
            "\u001b[?25hRequirement already satisfied: tensorflow<2,>=1.12.0 in /usr/local/lib/python3.6/dist-packages (from tf-encrypted>=0.5.4->syft) (1.14.0)\n",
            "Collecting python-socketio>=4.3.0 (from flask-socketio>=3.3.2->syft)\n",
            "\u001b[?25l  Downloading https://files.pythonhosted.org/packages/1c/5a/9429c1fbc399b6079725150a36491efd6bd4691c11110f5a57e8c991de96/python_socketio-4.3.0-py2.py3-none-any.whl (46kB)\n",
            "\u001b[K     |████████████████████████████████| 51kB 23.5MB/s \n",
            "\u001b[?25hRequirement already satisfied: scipy>=0.17.0 in /usr/local/lib/python3.6/dist-packages (from scikit-learn>=0.21.0->syft) (1.3.0)\n",
            "Requirement already satisfied: joblib>=0.11 in /usr/local/lib/python3.6/dist-packages (from scikit-learn>=0.21.0->syft) (0.13.2)\n",
            "Requirement already satisfied: pillow>=4.1.1 in /usr/local/lib/python3.6/dist-packages (from torchvision>=0.3.0->syft) (4.3.0)\n",
            "Requirement already satisfied: MarkupSafe>=0.23 in /usr/local/lib/python3.6/dist-packages (from Jinja2>=2.10.1->Flask>=1.0.2->syft) (1.1.1)\n",
            "Requirement already satisfied: keras-applications>=1.0.6 in /usr/local/lib/python3.6/dist-packages (from tensorflow<2,>=1.12.0->tf-encrypted>=0.5.4->syft) (1.0.8)\n",
            "Requirement already satisfied: absl-py>=0.7.0 in /usr/local/lib/python3.6/dist-packages (from tensorflow<2,>=1.12.0->tf-encrypted>=0.5.4->syft) (0.7.1)\n",
            "Requirement already satisfied: keras-preprocessing>=1.0.5 in /usr/local/lib/python3.6/dist-packages (from tensorflow<2,>=1.12.0->tf-encrypted>=0.5.4->syft) (1.1.0)\n",
            "Requirement already satisfied: wheel>=0.26 in /usr/local/lib/python3.6/dist-packages (from tensorflow<2,>=1.12.0->tf-encrypted>=0.5.4->syft) (0.33.4)\n",
            "Requirement already satisfied: termcolor>=1.1.0 in /usr/local/lib/python3.6/dist-packages (from tensorflow<2,>=1.12.0->tf-encrypted>=0.5.4->syft) (1.1.0)\n",
            "Requirement already satisfied: wrapt>=1.11.1 in /usr/local/lib/python3.6/dist-packages (from tensorflow<2,>=1.12.0->tf-encrypted>=0.5.4->syft) (1.11.2)\n",
            "Requirement already satisfied: tensorflow-estimator<1.15.0rc0,>=1.14.0rc0 in /usr/local/lib/python3.6/dist-packages (from tensorflow<2,>=1.12.0->tf-encrypted>=0.5.4->syft) (1.14.0)\n",
            "Requirement already satisfied: protobuf>=3.6.1 in /usr/local/lib/python3.6/dist-packages (from tensorflow<2,>=1.12.0->tf-encrypted>=0.5.4->syft) (3.7.1)\n",
            "Requirement already satisfied: gast>=0.2.0 in /usr/local/lib/python3.6/dist-packages (from tensorflow<2,>=1.12.0->tf-encrypted>=0.5.4->syft) (0.2.2)\n",
            "Requirement already satisfied: google-pasta>=0.1.6 in /usr/local/lib/python3.6/dist-packages (from tensorflow<2,>=1.12.0->tf-encrypted>=0.5.4->syft) (0.1.7)\n",
            "Requirement already satisfied: grpcio>=1.8.6 in /usr/local/lib/python3.6/dist-packages (from tensorflow<2,>=1.12.0->tf-encrypted>=0.5.4->syft) (1.15.0)\n",
            "Requirement already satisfied: astor>=0.6.0 in /usr/local/lib/python3.6/dist-packages (from tensorflow<2,>=1.12.0->tf-encrypted>=0.5.4->syft) (0.8.0)\n",
            "Requirement already satisfied: tensorboard<1.15.0,>=1.14.0 in /usr/local/lib/python3.6/dist-packages (from tensorflow<2,>=1.12.0->tf-encrypted>=0.5.4->syft) (1.14.0)\n",
            "Collecting python-engineio>=3.9.0 (from python-socketio>=4.3.0->flask-socketio>=3.3.2->syft)\n",
            "\u001b[?25l  Downloading https://files.pythonhosted.org/packages/3d/96/b7c61073023569efa30b17ad9115aa4c0489df5b2bf81b896e80d8e2b573/python_engineio-3.9.0-py2.py3-none-any.whl (119kB)\n",
            "\u001b[K     |████████████████████████████████| 122kB 57.7MB/s \n",
            "\u001b[?25hRequirement already satisfied: olefile in /usr/local/lib/python3.6/dist-packages (from pillow>=4.1.1->torchvision>=0.3.0->syft) (0.46)\n",
            "Requirement already satisfied: h5py in /usr/local/lib/python3.6/dist-packages (from keras-applications>=1.0.6->tensorflow<2,>=1.12.0->tf-encrypted>=0.5.4->syft) (2.8.0)\n",
            "Requirement already satisfied: setuptools in /usr/local/lib/python3.6/dist-packages (from protobuf>=3.6.1->tensorflow<2,>=1.12.0->tf-encrypted>=0.5.4->syft) (41.0.1)\n",
            "Requirement already satisfied: markdown>=2.6.8 in /usr/local/lib/python3.6/dist-packages (from tensorboard<1.15.0,>=1.14.0->tensorflow<2,>=1.12.0->tf-encrypted>=0.5.4->syft) (3.1.1)\n",
            "Building wheels for collected packages: zstd, pyyaml\n",
            "  Building wheel for zstd (setup.py) ... \u001b[?25l\u001b[?25hdone\n",
            "  Stored in directory: /root/.cache/pip/wheels/66/3f/ee/ac08c81af7c1b24a80c746df669ea3cb37542d27877d66ccf4\n",
            "  Building wheel for pyyaml (setup.py) ... \u001b[?25l\u001b[?25hdone\n",
            "  Stored in directory: /root/.cache/pip/wheels/16/27/a1/775c62ddea7bfa62324fd1f65847ed31c55dadb6051481ba3f\n",
            "Successfully built zstd pyyaml\n",
            "Installing collected packages: lz4, msgpack, websockets, zstd, websocket-client, pyyaml, tf-encrypted, python-engineio, python-socketio, flask-socketio, syft\n",
            "  Found existing installation: msgpack 0.5.6\n",
            "    Uninstalling msgpack-0.5.6:\n",
            "      Successfully uninstalled msgpack-0.5.6\n",
            "  Found existing installation: PyYAML 3.13\n",
            "    Uninstalling PyYAML-3.13:\n",
            "      Successfully uninstalled PyYAML-3.13\n",
            "Successfully installed flask-socketio-4.2.0 lz4-2.1.10 msgpack-0.6.1 python-engineio-3.9.0 python-socketio-4.3.0 pyyaml-5.1.1 syft-0.1.21a1 tf-encrypted-0.5.7 websocket-client-0.56.0 websockets-8.0.1 zstd-1.4.1.0\n"
          ],
          "name": "stdout"
        }
      ]
    },
    {
      "cell_type": "code",
      "metadata": {
        "id": "FGbet7jPdTxJ",
        "colab_type": "code",
        "colab": {
          "base_uri": "https://localhost:8080/",
          "height": 110
        },
        "outputId": "03ba5054-2237-4bb8-9aa4-8b612942f234"
      },
      "source": [
        "import torch\n",
        "import torchvision.datasets as datasets\n",
        "import torchvision.transforms as transforms\n",
        "from torch.utils.data import Subset\n",
        "import numpy as np\n",
        "from syft.frameworks.torch.differential_privacy import pate"
      ],
      "execution_count": 2,
      "outputs": [
        {
          "output_type": "stream",
          "text": [
            "WARNING: Logging before flag parsing goes to stderr.\n",
            "W0731 12:57:43.396513 140127720654720 secure_random.py:26] Falling back to insecure randomness since the required custom op could not be found for the installed version of TensorFlow. Fix this by compiling custom ops. Missing file was '/usr/local/lib/python3.6/dist-packages/tf_encrypted/operations/secure_random/secure_random_module_tf_1.14.0.so'\n",
            "W0731 12:57:43.411251 140127720654720 deprecation_wrapper.py:119] From /usr/local/lib/python3.6/dist-packages/tf_encrypted/session.py:26: The name tf.Session is deprecated. Please use tf.compat.v1.Session instead.\n",
            "\n"
          ],
          "name": "stderr"
        }
      ]
    },
    {
      "cell_type": "markdown",
      "metadata": {
        "id": "5PnE7_WkyTpm",
        "colab_type": "text"
      },
      "source": [
        "# Loading dataset\n"
      ]
    },
    {
      "cell_type": "code",
      "metadata": {
        "id": "Yu_y60N-xH97",
        "colab_type": "code",
        "colab": {
          "base_uri": "https://localhost:8080/",
          "height": 294
        },
        "outputId": "f475686b-ea35-4bfd-816c-8728dd2a5c39"
      },
      "source": [
        "\n",
        "\n",
        "# Define a transform to normalize the data\n",
        "transform = transforms.Compose([transforms.ToTensor(),\n",
        "                              transforms.Normalize((0.5,), (0.5,)),\n",
        "                              ])\n",
        "\n",
        "train_data = datasets.MNIST(root='./data', train=True, download=True, transform=transform)#need to keep differentially private\n",
        "test_data = datasets.MNIST(root='./data', train=False, download=True, transform=transform)#no need to keepdifferentially private\n"
      ],
      "execution_count": 3,
      "outputs": [
        {
          "output_type": "stream",
          "text": [
            "  0%|          | 0/9912422 [00:00<?, ?it/s]"
          ],
          "name": "stderr"
        },
        {
          "output_type": "stream",
          "text": [
            "Downloading http://yann.lecun.com/exdb/mnist/train-images-idx3-ubyte.gz to ./data/MNIST/raw/train-images-idx3-ubyte.gz\n"
          ],
          "name": "stdout"
        },
        {
          "output_type": "stream",
          "text": [
            "9920512it [00:00, 20366125.06it/s]                            \n"
          ],
          "name": "stderr"
        },
        {
          "output_type": "stream",
          "text": [
            "Extracting ./data/MNIST/raw/train-images-idx3-ubyte.gz\n"
          ],
          "name": "stdout"
        },
        {
          "output_type": "stream",
          "text": [
            "32768it [00:00, 307211.28it/s]                           \n",
            "0it [00:00, ?it/s]"
          ],
          "name": "stderr"
        },
        {
          "output_type": "stream",
          "text": [
            "Downloading http://yann.lecun.com/exdb/mnist/train-labels-idx1-ubyte.gz to ./data/MNIST/raw/train-labels-idx1-ubyte.gz\n",
            "Extracting ./data/MNIST/raw/train-labels-idx1-ubyte.gz\n",
            "Downloading http://yann.lecun.com/exdb/mnist/t10k-images-idx3-ubyte.gz to ./data/MNIST/raw/t10k-images-idx3-ubyte.gz\n"
          ],
          "name": "stdout"
        },
        {
          "output_type": "stream",
          "text": [
            "1654784it [00:00, 4910048.04it/s]                           \n",
            "8192it [00:00, 129432.76it/s]\n"
          ],
          "name": "stderr"
        },
        {
          "output_type": "stream",
          "text": [
            "Extracting ./data/MNIST/raw/t10k-images-idx3-ubyte.gz\n",
            "Downloading http://yann.lecun.com/exdb/mnist/t10k-labels-idx1-ubyte.gz to ./data/MNIST/raw/t10k-labels-idx1-ubyte.gz\n",
            "Extracting ./data/MNIST/raw/t10k-labels-idx1-ubyte.gz\n",
            "Processing...\n",
            "Done!\n"
          ],
          "name": "stdout"
        }
      ]
    },
    {
      "cell_type": "markdown",
      "metadata": {
        "id": "F3ZuNLeDycha",
        "colab_type": "text"
      },
      "source": [
        "# Creating the dataset for each teacher model\n"
      ]
    },
    {
      "cell_type": "code",
      "metadata": {
        "id": "bkEJ6LhOx9_0",
        "colab_type": "code",
        "colab": {}
      },
      "source": [
        "num_teacher = 100 # need to check if number of teacher affects the epsilon\n",
        "num_examples = len(train_data)//num_teacher # the number of datapoints alloacated to each teacher\n",
        "batch_size = 64 # numberr of samples in each batch\n",
        "num_workers = 0 # number of subprocesses for data loading ????\n",
        "\n",
        "teacher_loader = []\n",
        "for i in range(num_teacher):\n",
        "  indices = list(range(i * num_examples, (i+1) * num_examples))\n",
        "  data = Subset(train_data, indices)\n",
        "  loader = torch.utils.data.DataLoader(data, batch_size = batch_size, num_workers = num_workers)\n",
        "  teacher_loader.append(loader)\n",
        "  \n"
      ],
      "execution_count": 0,
      "outputs": []
    },
    {
      "cell_type": "markdown",
      "metadata": {
        "id": "qr30ZwDZ8GAp",
        "colab_type": "text"
      },
      "source": [
        "# Creating Data set for Student model."
      ]
    },
    {
      "cell_type": "code",
      "metadata": {
        "id": "5G9wwEDf1dop",
        "colab_type": "code",
        "colab": {}
      },
      "source": [
        "train_size = int(len(test_data) * 0.05) # for training size\n",
        "test_size = int(len(test_data) * 0.05) # for testing size\n",
        "\n",
        "student_train_data = Subset(test_data, list(range(train_size))) # training data\n",
        "student_test_data = Subset(test_data, list(range(train_size, train_size + test_size))) # testing data\n",
        "\n",
        "student_train_loader = torch.utils.data.DataLoader(student_train_data, batch_size = batch_size, num_workers = num_workers) #training data loader\n",
        "student_test_loader = torch.utils.data.DataLoader(student_test_data, batch_size = batch_size, num_workers = num_workers) #testing data loader"
      ],
      "execution_count": 0,
      "outputs": []
    },
    {
      "cell_type": "markdown",
      "metadata": {
        "id": "6aWFD-NP-ADD",
        "colab_type": "text"
      },
      "source": [
        "# Defining Neural Network Model"
      ]
    },
    {
      "cell_type": "code",
      "metadata": {
        "id": "qM7RYK5H1jDl",
        "colab_type": "code",
        "colab": {}
      },
      "source": [
        "from torch import nn, optim\n",
        "import torch.nn.functional as F\n",
        "\n",
        "class Net(nn.Module):\n",
        "    def __init__(self):\n",
        "        super().__init__()\n",
        "        \n",
        "        self.fc1 = nn.Linear(784 , 256)\n",
        "        self.fc2 = nn.Linear(256 , 128)\n",
        "        self.fc3 = nn.Linear(128 ,64)\n",
        "        self.fc4 = nn.Linear(64 , 10)\n",
        "        self.dropout = nn.Dropout(p = 0.2)\n",
        "        \n",
        "    def forward(self , x):\n",
        "        x = x.view(x.shape[0], -1)\n",
        "        x = self.dropout(F.relu(self.fc1(x)))\n",
        "        x = self.dropout(F.relu(self.fc2(x)))\n",
        "        x = self.dropout(F.relu(self.fc3(x)))\n",
        "        \n",
        "        x = F.log_softmax(self.fc4(x))\n",
        "        \n",
        "        return x"
      ],
      "execution_count": 0,
      "outputs": []
    },
    {
      "cell_type": "code",
      "metadata": {
        "id": "2i8-TqZo-kCY",
        "colab_type": "code",
        "colab": {}
      },
      "source": [
        "device = torch.device(\"cuda:0\" if torch.cuda.is_available() else \"cpu\")"
      ],
      "execution_count": 0,
      "outputs": []
    },
    {
      "cell_type": "markdown",
      "metadata": {
        "id": "fZ3djz87ImGi",
        "colab_type": "text"
      },
      "source": [
        "# An All Inclusive Function to Train Models \n",
        "This function can be used to train both teacher model and student model."
      ]
    },
    {
      "cell_type": "code",
      "metadata": {
        "id": "9_ltxXZ3-5ZE",
        "colab_type": "code",
        "colab": {}
      },
      "source": [
        "def train(model, trainloader, criterion, optimizer, epochs = 10, testloader = None):\n",
        "  model.to(device)\n",
        "  running_loss = 0\n",
        "  steps = 0\n",
        "  \n",
        "  for e in range(epochs):\n",
        "    model.train() # initializing model in training mode\n",
        "   \n",
        "    for images, labels in trainloader:\n",
        "      images, labels = images.to(device) , labels.to(device)\n",
        "      images = images.view( images.shape[0],-1)\n",
        "\n",
        "      steps += 1\n",
        "      \n",
        "      # erase perv grad\n",
        "      optimizer.zero_grad()\n",
        "      \n",
        "      # forward the image\n",
        "      pred = model.forward(images)\n",
        "      \n",
        "      #calculate loss\n",
        "      loss = criterion(pred, labels)\n",
        "      \n",
        "      #backpropagation\n",
        "      loss.backward()\n",
        "      \n",
        "      #change weights\n",
        "      optimizer.step()\n",
        "      \n",
        "      #save the loss \n",
        "      running_loss += loss.item()\n",
        "      \n",
        "      if(steps % 25 == 0 and testloader != None):\n",
        "        test_loss = 0\n",
        "        accuracy = 0\n",
        "        model.eval()#set in evaluation mode\n",
        "        with torch.no_grad():\n",
        "          for images, labels in testloader:\n",
        "            images, labels = images.to(device) , labels.to(device)\n",
        "            images = images.view( images.shape[0],-1)\n",
        "            log_ps = model(images)\n",
        "            test_loss += criterion(log_ps, labels).item()\n",
        "            \n",
        "            #accuracy\n",
        "            ps = torch.exp(log_ps)\n",
        "            top_p, top_class = ps.topk(1, dim=1)\n",
        "            equals = top_class == labels.view(*top_class.shape)\n",
        "            accuracy += torch.mean(equals.type(torch.FloatTensor))\n",
        "        model.train()\n",
        "        \n",
        "        print(\"Epoch: {}/{}.. \".format(e+1, epochs),\n",
        "                      \"Training Loss: {:.3f}.. \".format(running_loss/len(trainloader)),\n",
        "                      \"Test Loss: {:.3f}.. \".format(test_loss/len(testloader)),\n",
        "                      \"Test Accuracy: {:.3f}\".format(accuracy/len(testloader)))\n",
        "        running_loss = 0\n",
        "      \n",
        "    \n",
        "    "
      ],
      "execution_count": 0,
      "outputs": []
    },
    {
      "cell_type": "markdown",
      "metadata": {
        "id": "BRTQpCMCI6k_",
        "colab_type": "text"
      },
      "source": [
        "# Function to Predict outputs from Models."
      ]
    },
    {
      "cell_type": "code",
      "metadata": {
        "id": "MjdVjHBsE6YO",
        "colab_type": "code",
        "colab": {}
      },
      "source": [
        "def predict(model, dataloader):\n",
        "  outputs = torch.zeros(0 , dtype = torch.long).to(device)\n",
        "  model.to(device)\n",
        "  model.eval()\n",
        "  for images, labels in dataloader:\n",
        "    images = images.view( images.shape[0],-1)\n",
        "    images, labels = images.to(device), labels.to(device)\n",
        "    output = model.forward(images)\n",
        "    ps = torch.argmax(torch.exp(output), dim=1)\n",
        "    outputs = torch.cat((outputs, ps))\n",
        "    \n",
        "  return outputs"
      ],
      "execution_count": 0,
      "outputs": []
    },
    {
      "cell_type": "markdown",
      "metadata": {
        "id": "1AC2bUMHJFus",
        "colab_type": "text"
      },
      "source": [
        "# Train all Teacher Model."
      ]
    },
    {
      "cell_type": "code",
      "metadata": {
        "id": "ir8dQFaGIeLi",
        "colab_type": "code",
        "colab": {
          "base_uri": "https://localhost:8080/",
          "height": 1000
        },
        "outputId": "7baafadf-3209-40bb-beec-8eab22de0dc0"
      },
      "source": [
        "teacher_models = []\n",
        "\n",
        "for i in range(num_teacher):\n",
        "  print(\"Training Teacher #\", i+1)\n",
        "  model = Net()\n",
        "  criterion = nn.NLLLoss()\n",
        "  optimizer = optim.Adam(model.parameters(), lr=0.001)\n",
        "  train(model, teacher_loader[i], criterion, optimizer)\n",
        "  teacher_models.append(model)"
      ],
      "execution_count": 10,
      "outputs": [
        {
          "output_type": "stream",
          "text": [
            "Training Teacher # 1\n"
          ],
          "name": "stdout"
        },
        {
          "output_type": "stream",
          "text": [
            "/usr/local/lib/python3.6/dist-packages/ipykernel_launcher.py:20: UserWarning: Implicit dimension choice for log_softmax has been deprecated. Change the call to include dim=X as an argument.\n"
          ],
          "name": "stderr"
        },
        {
          "output_type": "stream",
          "text": [
            "Training Teacher # 2\n",
            "Training Teacher # 3\n",
            "Training Teacher # 4\n",
            "Training Teacher # 5\n",
            "Training Teacher # 6\n",
            "Training Teacher # 7\n",
            "Training Teacher # 8\n",
            "Training Teacher # 9\n",
            "Training Teacher # 10\n",
            "Training Teacher # 11\n",
            "Training Teacher # 12\n",
            "Training Teacher # 13\n",
            "Training Teacher # 14\n",
            "Training Teacher # 15\n",
            "Training Teacher # 16\n",
            "Training Teacher # 17\n",
            "Training Teacher # 18\n",
            "Training Teacher # 19\n",
            "Training Teacher # 20\n",
            "Training Teacher # 21\n",
            "Training Teacher # 22\n",
            "Training Teacher # 23\n",
            "Training Teacher # 24\n",
            "Training Teacher # 25\n",
            "Training Teacher # 26\n",
            "Training Teacher # 27\n",
            "Training Teacher # 28\n",
            "Training Teacher # 29\n",
            "Training Teacher # 30\n",
            "Training Teacher # 31\n",
            "Training Teacher # 32\n",
            "Training Teacher # 33\n",
            "Training Teacher # 34\n",
            "Training Teacher # 35\n",
            "Training Teacher # 36\n",
            "Training Teacher # 37\n",
            "Training Teacher # 38\n",
            "Training Teacher # 39\n",
            "Training Teacher # 40\n",
            "Training Teacher # 41\n",
            "Training Teacher # 42\n",
            "Training Teacher # 43\n",
            "Training Teacher # 44\n",
            "Training Teacher # 45\n",
            "Training Teacher # 46\n",
            "Training Teacher # 47\n",
            "Training Teacher # 48\n",
            "Training Teacher # 49\n",
            "Training Teacher # 50\n",
            "Training Teacher # 51\n",
            "Training Teacher # 52\n",
            "Training Teacher # 53\n",
            "Training Teacher # 54\n",
            "Training Teacher # 55\n",
            "Training Teacher # 56\n",
            "Training Teacher # 57\n",
            "Training Teacher # 58\n",
            "Training Teacher # 59\n",
            "Training Teacher # 60\n",
            "Training Teacher # 61\n",
            "Training Teacher # 62\n",
            "Training Teacher # 63\n",
            "Training Teacher # 64\n",
            "Training Teacher # 65\n",
            "Training Teacher # 66\n",
            "Training Teacher # 67\n",
            "Training Teacher # 68\n",
            "Training Teacher # 69\n",
            "Training Teacher # 70\n",
            "Training Teacher # 71\n",
            "Training Teacher # 72\n",
            "Training Teacher # 73\n",
            "Training Teacher # 74\n",
            "Training Teacher # 75\n",
            "Training Teacher # 76\n",
            "Training Teacher # 77\n",
            "Training Teacher # 78\n",
            "Training Teacher # 79\n",
            "Training Teacher # 80\n",
            "Training Teacher # 81\n",
            "Training Teacher # 82\n",
            "Training Teacher # 83\n",
            "Training Teacher # 84\n",
            "Training Teacher # 85\n",
            "Training Teacher # 86\n",
            "Training Teacher # 87\n",
            "Training Teacher # 88\n",
            "Training Teacher # 89\n",
            "Training Teacher # 90\n",
            "Training Teacher # 91\n",
            "Training Teacher # 92\n",
            "Training Teacher # 93\n",
            "Training Teacher # 94\n",
            "Training Teacher # 95\n",
            "Training Teacher # 96\n",
            "Training Teacher # 97\n",
            "Training Teacher # 98\n",
            "Training Teacher # 99\n",
            "Training Teacher # 100\n"
          ],
          "name": "stdout"
        }
      ]
    },
    {
      "cell_type": "markdown",
      "metadata": {
        "id": "rep9950iOZO1",
        "colab_type": "text"
      },
      "source": [
        "# Aggregate Teacher"
      ]
    },
    {
      "cell_type": "code",
      "metadata": {
        "id": "r3AzQeZSLzp6",
        "colab_type": "code",
        "colab": {
          "base_uri": "https://localhost:8080/",
          "height": 55
        },
        "outputId": "b99a64ef-64e5-47f8-b69b-e23c25f17374"
      },
      "source": [
        "epsilon = 0.2\n",
        "\n",
        "preds = torch.torch.zeros((len(teacher_models), train_size) , dtype = torch.long)\n",
        "\n",
        "for i, model in enumerate(teacher_models):\n",
        "  results = predict(model , student_train_loader)\n",
        "  preds[i] = results"
      ],
      "execution_count": 11,
      "outputs": [
        {
          "output_type": "stream",
          "text": [
            "/usr/local/lib/python3.6/dist-packages/ipykernel_launcher.py:20: UserWarning: Implicit dimension choice for log_softmax has been deprecated. Change the call to include dim=X as an argument.\n"
          ],
          "name": "stderr"
        }
      ]
    },
    {
      "cell_type": "code",
      "metadata": {
        "id": "pEaXAdSCVcg_",
        "colab_type": "code",
        "colab": {}
      },
      "source": [
        "labels = np.array([]).astype(int)\n",
        "for image_preds in np.transpose(preds):\n",
        "  labels_counts = np.bincount(image_preds , minlength = 10)\n",
        "  beta = 1/epsilon\n",
        "  \n",
        "  for i in range(len(labels_counts)):\n",
        "    labels_counts[i] += np.random.laplace(0, beta, 1)\n",
        "    \n",
        "  new_labels = np.argmax(labels_counts)\n",
        "  labels = np.append(labels , new_labels)\n",
        "  "
      ],
      "execution_count": 0,
      "outputs": []
    },
    {
      "cell_type": "code",
      "metadata": {
        "id": "VQy9FZYeXxqz",
        "colab_type": "code",
        "colab": {
          "base_uri": "https://localhost:8080/",
          "height": 1000
        },
        "outputId": "5bad216e-4d10-4b9c-e3f2-35c6cfb4bdde"
      },
      "source": [
        "PATE_labels = labels # Aggregate Teacher Labels   \n",
        "true_labels = test_data.targets[:train_size] # True Labels\n",
        "PATE_preds = preds # Labels Obtained by Teachers\n",
        "\n",
        "print(preds.shape)\n",
        "print(labels.shape)\n",
        "print(\"All Teacher Predicted Labels\\n\", preds)\n",
        "print(\"Aggregate Teacher Labels\\n\", torch.tensor(PATE_labels))\n",
        "print(\"True Labels\\n\", true_labels)"
      ],
      "execution_count": 13,
      "outputs": [
        {
          "output_type": "stream",
          "text": [
            "torch.Size([100, 500])\n",
            "(500,)\n",
            "All Teacher Predicted Labels\n",
            " tensor([[7, 2, 1,  ..., 9, 0, 6],\n",
            "        [7, 5, 1,  ..., 9, 0, 6],\n",
            "        [7, 6, 1,  ..., 9, 5, 6],\n",
            "        ...,\n",
            "        [7, 2, 1,  ..., 4, 0, 6],\n",
            "        [7, 6, 1,  ..., 9, 5, 1],\n",
            "        [7, 2, 1,  ..., 4, 5, 5]])\n",
            "Aggregate Teacher Labels\n",
            " tensor([7, 2, 1, 0, 4, 1, 4, 9, 6, 9, 0, 6, 9, 0, 1, 5, 9, 7, 3, 4, 9, 6, 6, 5,\n",
            "        4, 0, 7, 4, 0, 1, 3, 1, 3, 6, 7, 2, 7, 1, 3, 1, 1, 7, 4, 2, 3, 5, 1, 2,\n",
            "        4, 4, 6, 3, 5, 5, 2, 0, 4, 1, 9, 5, 7, 8, 4, 2, 7, 9, 2, 4, 3, 0, 7, 0,\n",
            "        2, 7, 1, 7, 3, 7, 9, 7, 9, 6, 2, 7, 8, 4, 7, 5, 6, 1, 3, 6, 4, 3, 1, 4,\n",
            "        1, 7, 6, 9, 6, 0, 5, 4, 4, 9, 2, 1, 9, 4, 8, 1, 3, 9, 7, 4, 4, 4, 9, 2,\n",
            "        5, 4, 7, 6, 9, 9, 0, 5, 8, 5, 6, 6, 5, 7, 8, 1, 0, 1, 6, 4, 6, 7, 3, 1,\n",
            "        7, 1, 8, 2, 0, 1, 9, 9, 5, 5, 1, 5, 6, 0, 3, 4, 4, 6, 5, 4, 6, 5, 4, 4,\n",
            "        1, 4, 4, 7, 3, 3, 2, 1, 1, 8, 1, 8, 1, 8, 5, 0, 8, 4, 2, 3, 0, 1, 1, 1,\n",
            "        0, 9, 0, 1, 1, 6, 4, 2, 3, 6, 1, 1, 1, 3, 9, 5, 2, 9, 4, 5, 9, 3, 9, 0,\n",
            "        3, 5, 5, 5, 7, 2, 2, 7, 1, 2, 8, 4, 1, 7, 3, 3, 8, 7, 7, 7, 2, 2, 4, 1,\n",
            "        5, 8, 8, 4, 2, 6, 0, 2, 4, 2, 9, 1, 9, 5, 7, 7, 2, 8, 2, 0, 8, 1, 7, 7,\n",
            "        9, 1, 8, 1, 8, 0, 3, 0, 1, 9, 9, 4, 1, 8, 2, 1, 2, 9, 7, 5, 9, 2, 6, 4,\n",
            "        1, 5, 4, 2, 9, 2, 0, 4, 0, 0, 2, 3, 1, 7, 1, 2, 9, 0, 2, 7, 4, 3, 3, 0,\n",
            "        0, 5, 1, 9, 6, 8, 3, 5, 1, 7, 9, 3, 0, 4, 2, 0, 7, 1, 1, 2, 1, 5, 3, 3,\n",
            "        9, 7, 5, 6, 3, 4, 1, 3, 8, 1, 0, 5, 1, 7, 1, 5, 0, 6, 1, 8, 5, 1, 7, 9,\n",
            "        4, 6, 7, 2, 5, 0, 6, 5, 6, 3, 7, 2, 0, 8, 8, 5, 9, 1, 1, 4, 0, 7, 3, 7,\n",
            "        6, 1, 6, 2, 1, 9, 2, 8, 6, 1, 9, 5, 2, 5, 4, 4, 2, 8, 3, 9, 2, 4, 0, 0,\n",
            "        3, 1, 7, 7, 3, 7, 9, 7, 1, 9, 2, 1, 4, 2, 9, 2, 0, 4, 9, 1, 4, 8, 1, 8,\n",
            "        4, 5, 9, 7, 8, 3, 7, 6, 0, 0, 3, 5, 8, 0, 6, 4, 8, 5, 3, 3, 2, 3, 9, 1,\n",
            "        1, 5, 8, 0, 5, 6, 6, 6, 7, 8, 8, 2, 8, 5, 8, 9, 6, 1, 8, 4, 1, 2, 8, 3,\n",
            "        1, 9, 7, 5, 4, 0, 9, 9, 9, 1, 0, 5, 2, 3, 7, 0, 9, 9, 0, 6])\n",
            "True Labels\n",
            " tensor([7, 2, 1, 0, 4, 1, 4, 9, 5, 9, 0, 6, 9, 0, 1, 5, 9, 7, 3, 4, 9, 6, 6, 5,\n",
            "        4, 0, 7, 4, 0, 1, 3, 1, 3, 4, 7, 2, 7, 1, 2, 1, 1, 7, 4, 2, 3, 5, 1, 2,\n",
            "        4, 4, 6, 3, 5, 5, 6, 0, 4, 1, 9, 5, 7, 8, 9, 3, 7, 4, 6, 4, 3, 0, 7, 0,\n",
            "        2, 9, 1, 7, 3, 2, 9, 7, 7, 6, 2, 7, 8, 4, 7, 3, 6, 1, 3, 6, 9, 3, 1, 4,\n",
            "        1, 7, 6, 9, 6, 0, 5, 4, 9, 9, 2, 1, 9, 4, 8, 7, 3, 9, 7, 4, 4, 4, 9, 2,\n",
            "        5, 4, 7, 6, 7, 9, 0, 5, 8, 5, 6, 6, 5, 7, 8, 1, 0, 1, 6, 4, 6, 7, 3, 1,\n",
            "        7, 1, 8, 2, 0, 2, 9, 9, 5, 5, 1, 5, 6, 0, 3, 4, 4, 6, 5, 4, 6, 5, 4, 5,\n",
            "        1, 4, 4, 7, 2, 3, 2, 7, 1, 8, 1, 8, 1, 8, 5, 0, 8, 9, 2, 5, 0, 1, 1, 1,\n",
            "        0, 9, 0, 3, 1, 6, 4, 2, 3, 6, 1, 1, 1, 3, 9, 5, 2, 9, 4, 5, 9, 3, 9, 0,\n",
            "        3, 6, 5, 5, 7, 2, 2, 7, 1, 2, 8, 4, 1, 7, 3, 3, 8, 8, 7, 9, 2, 2, 4, 1,\n",
            "        5, 9, 8, 7, 2, 3, 0, 4, 4, 2, 4, 1, 9, 5, 7, 7, 2, 8, 2, 6, 8, 5, 7, 7,\n",
            "        9, 1, 8, 1, 8, 0, 3, 0, 1, 9, 9, 4, 1, 8, 2, 1, 2, 9, 7, 5, 9, 2, 6, 4,\n",
            "        1, 5, 8, 2, 9, 2, 0, 4, 0, 0, 2, 8, 4, 7, 1, 2, 4, 0, 2, 7, 4, 3, 3, 0,\n",
            "        0, 3, 1, 9, 6, 5, 2, 5, 9, 2, 9, 3, 0, 4, 2, 0, 7, 1, 1, 2, 1, 5, 3, 3,\n",
            "        9, 7, 8, 6, 5, 6, 1, 3, 8, 1, 0, 5, 1, 3, 1, 5, 5, 6, 1, 8, 5, 1, 7, 9,\n",
            "        4, 6, 2, 2, 5, 0, 6, 5, 6, 3, 7, 2, 0, 8, 8, 5, 4, 1, 1, 4, 0, 3, 3, 7,\n",
            "        6, 1, 6, 2, 1, 9, 2, 8, 6, 1, 9, 5, 2, 5, 4, 4, 2, 8, 3, 8, 2, 4, 5, 0,\n",
            "        3, 1, 7, 7, 5, 7, 9, 7, 1, 9, 2, 1, 4, 2, 9, 2, 0, 4, 9, 1, 4, 8, 1, 8,\n",
            "        4, 5, 9, 8, 8, 3, 7, 6, 0, 0, 3, 0, 2, 6, 6, 4, 9, 3, 3, 3, 2, 3, 9, 1,\n",
            "        2, 6, 8, 0, 5, 6, 6, 6, 3, 8, 8, 2, 7, 5, 8, 9, 6, 1, 8, 4, 1, 2, 5, 9,\n",
            "        1, 9, 7, 5, 4, 0, 8, 9, 9, 1, 0, 5, 2, 3, 7, 8, 9, 4, 0, 6])\n"
          ],
          "name": "stdout"
        }
      ]
    },
    {
      "cell_type": "code",
      "metadata": {
        "id": "EhjUyZIBX2E_",
        "colab_type": "code",
        "colab": {}
      },
      "source": [
        "dat_dep_eps, data_ind_eps = pate.perform_analysis(teacher_preds = PATE_preds, indices = PATE_labels, noise_eps = epsilon, delta = 1e-5, moments = 10)\n"
      ],
      "execution_count": 0,
      "outputs": []
    },
    {
      "cell_type": "code",
      "metadata": {
        "id": "D0vZKDH0Yn7l",
        "colab_type": "code",
        "colab": {
          "base_uri": "https://localhost:8080/",
          "height": 54
        },
        "outputId": "81e0fe8b-55e4-4f24-914d-3820bcf85658"
      },
      "source": [
        "print(\"Data Independent Epsilon:\", data_ind_eps)\n",
        "print(\"Data Dependent Epsilon:\", dat_dep_eps)\n",
        "# Data Independent Epsilon: 91.51292546497024\n",
        "# Data Dependent Epsilon: 39.729444099007154"
      ],
      "execution_count": 32,
      "outputs": [
        {
          "output_type": "stream",
          "text": [
            "Data Independent Epsilon: 91.51292546497024\n",
            "Data Dependent Epsilon: 39.729444099007154\n"
          ],
          "name": "stdout"
        }
      ]
    },
    {
      "cell_type": "code",
      "metadata": {
        "id": "EzBxH2w7fqL9",
        "colab_type": "code",
        "colab": {}
      },
      "source": [
        "data = torch.FloatTensor(test_data.data.clone().detach().numpy()[:train_size])\n",
        "targets = torch.tensor(labels)\n",
        "\n",
        "test_data.targets[:train_size] = targets\n",
        "\n",
        "student_train_data = Subset(test_data, list(range(train_size)))\n",
        "student_train_loader = torch.utils.data.DataLoader(student_train_data, batch_size=batch_size, num_workers = num_workers )"
      ],
      "execution_count": 0,
      "outputs": []
    },
    {
      "cell_type": "code",
      "metadata": {
        "id": "twK55EjLH0hf",
        "colab_type": "code",
        "colab": {
          "base_uri": "https://localhost:8080/",
          "height": 202
        },
        "outputId": "c72f117a-2906-4e5e-e790-144e96180312"
      },
      "source": [
        "\n",
        "student_model = Net()\n",
        "criterion = nn.NLLLoss()\n",
        "optimizer = optim.Adam(student_model.parameters(), lr=0.002)\n",
        "epochs = 25\n",
        "train(student_model, student_train_loader, criterion, optimizer, epochs, student_test_loader)\n",
        "# train(model, trainloader, criterion, optimizer, epochs = 10, testloader = None)"
      ],
      "execution_count": 24,
      "outputs": [
        {
          "output_type": "stream",
          "text": [
            "/usr/local/lib/python3.6/dist-packages/ipykernel_launcher.py:20: UserWarning: Implicit dimension choice for log_softmax has been deprecated. Change the call to include dim=X as an argument.\n"
          ],
          "name": "stderr"
        },
        {
          "output_type": "stream",
          "text": [
            "Epoch: 4/25..  Training Loss: 6.207..  Test Loss: 1.342..  Test Accuracy: 0.616\n",
            "Epoch: 7/25..  Training Loss: 3.084..  Test Loss: 0.760..  Test Accuracy: 0.754\n",
            "Epoch: 10/25..  Training Loss: 1.419..  Test Loss: 0.713..  Test Accuracy: 0.773\n",
            "Epoch: 13/25..  Training Loss: 0.866..  Test Loss: 0.657..  Test Accuracy: 0.815\n",
            "Epoch: 16/25..  Training Loss: 0.533..  Test Loss: 0.730..  Test Accuracy: 0.809\n",
            "Epoch: 19/25..  Training Loss: 0.320..  Test Loss: 0.777..  Test Accuracy: 0.816\n",
            "Epoch: 22/25..  Training Loss: 0.300..  Test Loss: 0.857..  Test Accuracy: 0.799\n",
            "Epoch: 25/25..  Training Loss: 0.253..  Test Loss: 0.827..  Test Accuracy: 0.819\n"
          ],
          "name": "stdout"
        }
      ]
    },
    {
      "cell_type": "code",
      "metadata": {
        "id": "VwPQjmnfJa6I",
        "colab_type": "code",
        "colab": {
          "base_uri": "https://localhost:8080/",
          "height": 74
        },
        "outputId": "8269f138-41b2-4c4a-aa6a-a86dcf2355c6"
      },
      "source": [
        "test_loss = 0\n",
        "accuracy = 0\n",
        "with torch.no_grad():\n",
        "  for images, labels in student_test_loader:\n",
        "    images, labels = images.to(device) , labels.to(device)\n",
        "    images = images.view(images.shape[0], -1)\n",
        "    log_ps = student_model(images)\n",
        "    test_loss += criterion(log_ps, labels).item()\n",
        "    \n",
        "    #accuracy\n",
        "    ps = torch.exp(log_ps)\n",
        "    top_p, top_class = ps.topk(1, dim=1)\n",
        "    equals = top_class == labels.view(*top_class.shape)\n",
        "    accuracy += torch.mean(equals.type(torch.FloatTensor))\n",
        "student_model.train()\n",
        "print(\"Test Loss: {:.3f}.. \".format(test_loss/len(student_test_loader)),\n",
        "      \"Test Accuracy: {:.3f}\".format(accuracy/len(student_test_loader)))\n",
        "running_loss = 0"
      ],
      "execution_count": 26,
      "outputs": [
        {
          "output_type": "stream",
          "text": [
            "Test Loss: 1.001..  Test Accuracy: 0.787\n"
          ],
          "name": "stdout"
        },
        {
          "output_type": "stream",
          "text": [
            "/usr/local/lib/python3.6/dist-packages/ipykernel_launcher.py:20: UserWarning: Implicit dimension choice for log_softmax has been deprecated. Change the call to include dim=X as an argument.\n"
          ],
          "name": "stderr"
        }
      ]
    },
    {
      "cell_type": "code",
      "metadata": {
        "id": "3EYG6_aVO3hN",
        "colab_type": "code",
        "colab": {}
      },
      "source": [
        ""
      ],
      "execution_count": 0,
      "outputs": []
    }
  ]
}