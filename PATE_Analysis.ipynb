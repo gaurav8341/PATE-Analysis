{
  "nbformat": 4,
  "nbformat_minor": 0,
  "metadata": {
    "colab": {
      "name": "PATE-Analysis.ipynb",
      "version": "0.3.2",
      "provenance": [],
      "collapsed_sections": [],
      "machine_shape": "hm",
      "include_colab_link": true
    },
    "kernelspec": {
      "name": "python3",
      "display_name": "Python 3"
    },
    "accelerator": "GPU"
  },
  "cells": [
    {
      "cell_type": "markdown",
      "metadata": {
        "id": "view-in-github",
        "colab_type": "text"
      },
      "source": [
        "<a href=\"https://colab.research.google.com/github/gaurav8341/PATE-Analysis/blob/master/PATE_Analysis.ipynb\" target=\"_parent\"><img src=\"https://colab.research.google.com/assets/colab-badge.svg\" alt=\"Open In Colab\"/></a>"
      ]
    },
    {
      "cell_type": "code",
      "metadata": {
        "id": "xfKBspHhdJl8",
        "colab_type": "code",
        "colab": {
          "base_uri": "https://localhost:8080/",
          "height": 845
        },
        "outputId": "01249748-f52e-4b58-b35c-f637601c3dc9"
      },
      "source": [
        "!pip install syft\n"
      ],
      "execution_count": 27,
      "outputs": [
        {
          "output_type": "stream",
          "text": [
            "Requirement already satisfied: syft in /usr/local/lib/python3.6/dist-packages (0.1.21a1)\n",
            "Requirement already satisfied: msgpack>=0.6.1 in /usr/local/lib/python3.6/dist-packages (from syft) (0.6.1)\n",
            "Requirement already satisfied: websocket-client>=0.56.0 in /usr/local/lib/python3.6/dist-packages (from syft) (0.56.0)\n",
            "Requirement already satisfied: torch>=1.1 in /usr/local/lib/python3.6/dist-packages (from syft) (1.1.0)\n",
            "Requirement already satisfied: flask-socketio>=3.3.2 in /usr/local/lib/python3.6/dist-packages (from syft) (4.2.0)\n",
            "Requirement already satisfied: tblib>=1.4.0 in /usr/local/lib/python3.6/dist-packages (from syft) (1.4.0)\n",
            "Requirement already satisfied: websockets>=7.0 in /usr/local/lib/python3.6/dist-packages (from syft) (8.0.1)\n",
            "Requirement already satisfied: Flask>=1.0.2 in /usr/local/lib/python3.6/dist-packages (from syft) (1.1.1)\n",
            "Requirement already satisfied: lz4>=2.1.6 in /usr/local/lib/python3.6/dist-packages (from syft) (2.1.10)\n",
            "Requirement already satisfied: scikit-learn>=0.21.0 in /usr/local/lib/python3.6/dist-packages (from syft) (0.21.2)\n",
            "Requirement already satisfied: tf-encrypted>=0.5.4 in /usr/local/lib/python3.6/dist-packages (from syft) (0.5.7)\n",
            "Requirement already satisfied: zstd>=1.4.0.0 in /usr/local/lib/python3.6/dist-packages (from syft) (1.4.1.0)\n",
            "Requirement already satisfied: torchvision>=0.3.0 in /usr/local/lib/python3.6/dist-packages (from syft) (0.3.0)\n",
            "Requirement already satisfied: numpy>=1.14.0 in /usr/local/lib/python3.6/dist-packages (from syft) (1.16.4)\n",
            "Requirement already satisfied: six in /usr/local/lib/python3.6/dist-packages (from websocket-client>=0.56.0->syft) (1.12.0)\n",
            "Requirement already satisfied: python-socketio>=4.3.0 in /usr/local/lib/python3.6/dist-packages (from flask-socketio>=3.3.2->syft) (4.3.0)\n",
            "Requirement already satisfied: Werkzeug>=0.15 in /usr/local/lib/python3.6/dist-packages (from Flask>=1.0.2->syft) (0.15.5)\n",
            "Requirement already satisfied: Jinja2>=2.10.1 in /usr/local/lib/python3.6/dist-packages (from Flask>=1.0.2->syft) (2.10.1)\n",
            "Requirement already satisfied: click>=5.1 in /usr/local/lib/python3.6/dist-packages (from Flask>=1.0.2->syft) (7.0)\n",
            "Requirement already satisfied: itsdangerous>=0.24 in /usr/local/lib/python3.6/dist-packages (from Flask>=1.0.2->syft) (1.1.0)\n",
            "Requirement already satisfied: scipy>=0.17.0 in /usr/local/lib/python3.6/dist-packages (from scikit-learn>=0.21.0->syft) (1.3.0)\n",
            "Requirement already satisfied: joblib>=0.11 in /usr/local/lib/python3.6/dist-packages (from scikit-learn>=0.21.0->syft) (0.13.2)\n",
            "Requirement already satisfied: tensorflow<2,>=1.12.0 in /usr/local/lib/python3.6/dist-packages (from tf-encrypted>=0.5.4->syft) (1.14.0)\n",
            "Requirement already satisfied: pyyaml>=5.1 in /usr/local/lib/python3.6/dist-packages (from tf-encrypted>=0.5.4->syft) (5.1.1)\n",
            "Requirement already satisfied: pillow>=4.1.1 in /usr/local/lib/python3.6/dist-packages (from torchvision>=0.3.0->syft) (4.3.0)\n",
            "Requirement already satisfied: python-engineio>=3.9.0 in /usr/local/lib/python3.6/dist-packages (from python-socketio>=4.3.0->flask-socketio>=3.3.2->syft) (3.9.0)\n",
            "Requirement already satisfied: MarkupSafe>=0.23 in /usr/local/lib/python3.6/dist-packages (from Jinja2>=2.10.1->Flask>=1.0.2->syft) (1.1.1)\n",
            "Requirement already satisfied: absl-py>=0.7.0 in /usr/local/lib/python3.6/dist-packages (from tensorflow<2,>=1.12.0->tf-encrypted>=0.5.4->syft) (0.7.1)\n",
            "Requirement already satisfied: astor>=0.6.0 in /usr/local/lib/python3.6/dist-packages (from tensorflow<2,>=1.12.0->tf-encrypted>=0.5.4->syft) (0.8.0)\n",
            "Requirement already satisfied: gast>=0.2.0 in /usr/local/lib/python3.6/dist-packages (from tensorflow<2,>=1.12.0->tf-encrypted>=0.5.4->syft) (0.2.2)\n",
            "Requirement already satisfied: keras-applications>=1.0.6 in /usr/local/lib/python3.6/dist-packages (from tensorflow<2,>=1.12.0->tf-encrypted>=0.5.4->syft) (1.0.8)\n",
            "Requirement already satisfied: protobuf>=3.6.1 in /usr/local/lib/python3.6/dist-packages (from tensorflow<2,>=1.12.0->tf-encrypted>=0.5.4->syft) (3.7.1)\n",
            "Requirement already satisfied: termcolor>=1.1.0 in /usr/local/lib/python3.6/dist-packages (from tensorflow<2,>=1.12.0->tf-encrypted>=0.5.4->syft) (1.1.0)\n",
            "Requirement already satisfied: keras-preprocessing>=1.0.5 in /usr/local/lib/python3.6/dist-packages (from tensorflow<2,>=1.12.0->tf-encrypted>=0.5.4->syft) (1.1.0)\n",
            "Requirement already satisfied: tensorboard<1.15.0,>=1.14.0 in /usr/local/lib/python3.6/dist-packages (from tensorflow<2,>=1.12.0->tf-encrypted>=0.5.4->syft) (1.14.0)\n",
            "Requirement already satisfied: tensorflow-estimator<1.15.0rc0,>=1.14.0rc0 in /usr/local/lib/python3.6/dist-packages (from tensorflow<2,>=1.12.0->tf-encrypted>=0.5.4->syft) (1.14.0)\n",
            "Requirement already satisfied: wrapt>=1.11.1 in /usr/local/lib/python3.6/dist-packages (from tensorflow<2,>=1.12.0->tf-encrypted>=0.5.4->syft) (1.11.2)\n",
            "Requirement already satisfied: google-pasta>=0.1.6 in /usr/local/lib/python3.6/dist-packages (from tensorflow<2,>=1.12.0->tf-encrypted>=0.5.4->syft) (0.1.7)\n",
            "Requirement already satisfied: grpcio>=1.8.6 in /usr/local/lib/python3.6/dist-packages (from tensorflow<2,>=1.12.0->tf-encrypted>=0.5.4->syft) (1.15.0)\n",
            "Requirement already satisfied: wheel>=0.26 in /usr/local/lib/python3.6/dist-packages (from tensorflow<2,>=1.12.0->tf-encrypted>=0.5.4->syft) (0.33.4)\n",
            "Requirement already satisfied: olefile in /usr/local/lib/python3.6/dist-packages (from pillow>=4.1.1->torchvision>=0.3.0->syft) (0.46)\n",
            "Requirement already satisfied: h5py in /usr/local/lib/python3.6/dist-packages (from keras-applications>=1.0.6->tensorflow<2,>=1.12.0->tf-encrypted>=0.5.4->syft) (2.8.0)\n",
            "Requirement already satisfied: setuptools in /usr/local/lib/python3.6/dist-packages (from protobuf>=3.6.1->tensorflow<2,>=1.12.0->tf-encrypted>=0.5.4->syft) (41.0.1)\n",
            "Requirement already satisfied: markdown>=2.6.8 in /usr/local/lib/python3.6/dist-packages (from tensorboard<1.15.0,>=1.14.0->tensorflow<2,>=1.12.0->tf-encrypted>=0.5.4->syft) (3.1.1)\n"
          ],
          "name": "stdout"
        }
      ]
    },
    {
      "cell_type": "code",
      "metadata": {
        "id": "FGbet7jPdTxJ",
        "colab_type": "code",
        "colab": {}
      },
      "source": [
        "import torch\n",
        "import torchvision.datasets as datasets\n",
        "import torchvision.transforms as transforms\n",
        "from torch.utils.data import Subset\n",
        "import numpy as np\n",
        "from syft.frameworks.torch.differential_privacy import pate"
      ],
      "execution_count": 0,
      "outputs": []
    },
    {
      "cell_type": "markdown",
      "metadata": {
        "id": "5PnE7_WkyTpm",
        "colab_type": "text"
      },
      "source": [
        "# Loading dataset\n"
      ]
    },
    {
      "cell_type": "code",
      "metadata": {
        "id": "Yu_y60N-xH97",
        "colab_type": "code",
        "colab": {}
      },
      "source": [
        "\n",
        "\n",
        "# Define a transform to normalize the data\n",
        "transform = transforms.Compose([transforms.ToTensor(),\n",
        "                              transforms.Normalize((0.5,), (0.5,)),\n",
        "                              ])\n",
        "\n",
        "train_data = datasets.MNIST(root='./data', train=True, download=True, transform=transform)#need to keep differentially private\n",
        "test_data = datasets.MNIST(root='./data', train=False, download=True, transform=transform)#no need to keepdifferentially private\n"
      ],
      "execution_count": 0,
      "outputs": []
    },
    {
      "cell_type": "markdown",
      "metadata": {
        "id": "F3ZuNLeDycha",
        "colab_type": "text"
      },
      "source": [
        "# Creating the dataset for each teacher model\n"
      ]
    },
    {
      "cell_type": "code",
      "metadata": {
        "id": "bkEJ6LhOx9_0",
        "colab_type": "code",
        "colab": {}
      },
      "source": [
        "num_teacher = 100 # need to check if number of teacher affects the epsilon\n",
        "num_examples = len(train_data)//num_teacher # the number of datapoints alloacated to each teacher\n",
        "batch_size = 64 # numberr of samples in each batch\n",
        "num_workers = 0 # number of subprocesses for data loading ????\n",
        "\n",
        "teacher_loader = []\n",
        "for i in range(num_teacher):\n",
        "  indices = list(range(i * num_examples, (i+1) * num_examples))\n",
        "  data = Subset(train_data, indices)\n",
        "  loader = torch.utils.data.DataLoader(data, batch_size = batch_size, num_workers = num_workers)\n",
        "  teacher_loader.append(loader)\n",
        "  \n"
      ],
      "execution_count": 0,
      "outputs": []
    },
    {
      "cell_type": "markdown",
      "metadata": {
        "id": "qr30ZwDZ8GAp",
        "colab_type": "text"
      },
      "source": [
        "# Creating Data set for Student model."
      ]
    },
    {
      "cell_type": "code",
      "metadata": {
        "id": "5G9wwEDf1dop",
        "colab_type": "code",
        "colab": {}
      },
      "source": [
        "train_size = int(len(test_data) * 0.05) # for training size\n",
        "test_size = int(len(test_data) * 0.05) # for testing size\n",
        "\n",
        "student_train_data = Subset(test_data, list(range(train_size))) # training data\n",
        "student_test_data = Subset(test_data, list(range(train_size, train_size + test_size))) # testing data\n",
        "\n",
        "student_train_loader = torch.utils.data.DataLoader(student_train_data, batch_size = batch_size, num_workers = num_workers) #training data loader\n",
        "student_test_loader = torch.utils.data.DataLoader(student_test_data, batch_size = batch_size, num_workers = num_workers) #testing data loader"
      ],
      "execution_count": 0,
      "outputs": []
    },
    {
      "cell_type": "markdown",
      "metadata": {
        "id": "6aWFD-NP-ADD",
        "colab_type": "text"
      },
      "source": [
        "# Defining Neural Network Model"
      ]
    },
    {
      "cell_type": "code",
      "metadata": {
        "id": "qM7RYK5H1jDl",
        "colab_type": "code",
        "colab": {}
      },
      "source": [
        "from torch import nn, optim\n",
        "import torch.nn.functional as F\n",
        "\n",
        "# class Net(nn.Module):\n",
        "#     def __init__(self):\n",
        "#         super().__init__()       \n",
        "#         self.fc1 = nn.Linear(784 , 256)\n",
        "#         self.fc2 = nn.Linear(256 , 128)\n",
        "#         self.fc3 = nn.Linear(128 ,64)\n",
        "#         self.fc4 = nn.Linear(64 , 10)\n",
        "#         self.dropout = nn.Dropout(p = 0.2)\n",
        "        \n",
        "#     def forward(self , x):\n",
        "#         x = x.view(x.shape[0], -1)\n",
        "#         x = self.dropout(F.relu(self.fc1(x)))\n",
        "#         x = self.dropout(F.relu(self.fc2(x)))\n",
        "#         x = self.dropout(F.relu(self.fc3(x)))\n",
        "#         x = F.log_softmax(self.fc4(x))        \n",
        "#         return x\n",
        "\n",
        "class Net(nn.Module):\n",
        "  def __init__(self):\n",
        "    super(Net, self).__init__()\n",
        "    #convolution layer 1\n",
        "    self.conv1 = nn.Conv2d(in_channels = 1, out_channels = 16, kernel_size = 5, stride = 1, padding = 0)\n",
        "    self.relu1 = nn.ReLU()\n",
        "    #max pool 1\n",
        "    self.maxpool1 = nn.MaxPool2d(kernel_size = 2)\n",
        "    #convolution layer 2\n",
        "    self.conv2 = nn.Conv2d(in_channels = 16, out_channels = 32, kernel_size = 5, stride = 1, padding = 0)\n",
        "    self.relu2 = nn.ReLU()\n",
        "    #max pool 2\n",
        "    self.maxpool2 = nn.MaxPool2d(kernel_size = 2)\n",
        "    \n",
        "    #  self.fc1 = nn.Linear(32*4*4, 128)\n",
        "    self.fc1 = nn.Linear(32*4*4 , 128)\n",
        "    self.fc2 = nn.Linear(128 ,64)\n",
        "    # final layer\n",
        "    self.fc3 = nn.Linear(64 , 10)\n",
        "    \n",
        "  def forward(self, x):\n",
        "    x = self.conv1(x)\n",
        "    x = self.relu1(x)\n",
        "      \n",
        "    x = self.maxpool1(x)\n",
        "    \n",
        "    x = self.conv2(x)\n",
        "    x = self.relu2(x)\n",
        "      \n",
        "    x = self.maxpool2(x)\n",
        "    #flattening\n",
        "    x = x.view(x.size(0), -1)\n",
        "\n",
        "    x = F.relu(self.fc1(x))\n",
        "    x = F.relu(self.fc2(x))\n",
        "    x = F.log_softmax(self.fc3(x))\n",
        "      \n",
        "    return x\n",
        "      "
      ],
      "execution_count": 0,
      "outputs": []
    },
    {
      "cell_type": "code",
      "metadata": {
        "id": "2i8-TqZo-kCY",
        "colab_type": "code",
        "colab": {}
      },
      "source": [
        "device = torch.device(\"cuda:0\" if torch.cuda.is_available() else \"cpu\")"
      ],
      "execution_count": 0,
      "outputs": []
    },
    {
      "cell_type": "markdown",
      "metadata": {
        "id": "fZ3djz87ImGi",
        "colab_type": "text"
      },
      "source": [
        "# An All Inclusive Function to Train Models \n",
        "This function can be used to train both teacher model and student model."
      ]
    },
    {
      "cell_type": "code",
      "metadata": {
        "id": "9_ltxXZ3-5ZE",
        "colab_type": "code",
        "colab": {}
      },
      "source": [
        "def train(model, trainloader, criterion, optimizer, epochs = 10, testloader = None):\n",
        "  model.to(device)\n",
        "  running_loss = 0\n",
        "  steps = 0\n",
        "  \n",
        "  for e in range(epochs):\n",
        "    model.train() # initializing model in training mode\n",
        "   \n",
        "    for images, labels in trainloader:\n",
        "      images, labels = images.to(device) , labels.to(device)\n",
        "      # images = images.view( images.shape[0],-1)\n",
        "\n",
        "      steps += 1\n",
        "      \n",
        "      # erase perv grad\n",
        "      optimizer.zero_grad()\n",
        "      \n",
        "      # forward the image\n",
        "      pred = model.forward(images)\n",
        "      \n",
        "      #calculate loss\n",
        "      loss = criterion(pred, labels)\n",
        "      \n",
        "      #backpropagation\n",
        "      loss.backward()\n",
        "      \n",
        "      #change weights\n",
        "      optimizer.step()\n",
        "      \n",
        "      #save the loss \n",
        "      running_loss += loss.item()\n",
        "      \n",
        "      if(steps % 25 == 0 and testloader != None):\n",
        "        test_loss = 0\n",
        "        accuracy = 0\n",
        "        model.eval()#set in evaluation mode\n",
        "        with torch.no_grad():\n",
        "          for images, labels in testloader:\n",
        "            images, labels = images.to(device) , labels.to(device)\n",
        "            #  images = images.view( images.shape[0],-1)\n",
        "            log_ps = model(images)\n",
        "            test_loss += criterion(log_ps, labels).item()\n",
        "            \n",
        "            #accuracy\n",
        "            ps = torch.exp(log_ps)\n",
        "            top_p, top_class = ps.topk(1, dim=1)\n",
        "            equals = top_class == labels.view(*top_class.shape)\n",
        "            accuracy += torch.mean(equals.type(torch.FloatTensor))\n",
        "        model.train()\n",
        "        \n",
        "        print(\"Epoch: {}/{}.. \".format(e+1, epochs),\n",
        "                      \"Training Loss: {:.3f}.. \".format(running_loss/len(trainloader)),\n",
        "                      \"Test Loss: {:.3f}.. \".format(test_loss/len(testloader)),\n",
        "                      \"Test Accuracy: {:.3f}\".format(accuracy/len(testloader)))\n",
        "        running_loss = 0\n",
        "      \n",
        "    \n",
        "    "
      ],
      "execution_count": 0,
      "outputs": []
    },
    {
      "cell_type": "markdown",
      "metadata": {
        "id": "BRTQpCMCI6k_",
        "colab_type": "text"
      },
      "source": [
        "# Function to Predict outputs from Models."
      ]
    },
    {
      "cell_type": "code",
      "metadata": {
        "id": "MjdVjHBsE6YO",
        "colab_type": "code",
        "colab": {}
      },
      "source": [
        "def predict(model, dataloader):\n",
        "  outputs = torch.zeros(0 , dtype = torch.long).to(device)\n",
        "  model.to(device)\n",
        "  model.eval()\n",
        "  for images, labels in dataloader:\n",
        "    # images = images.view( images.shape[0],-1)\n",
        "    images, labels = images.to(device), labels.to(device)\n",
        "    output = model.forward(images)\n",
        "    ps = torch.argmax(torch.exp(output), dim=1)\n",
        "    outputs = torch.cat((outputs, ps))\n",
        "    \n",
        "  return outputs"
      ],
      "execution_count": 0,
      "outputs": []
    },
    {
      "cell_type": "markdown",
      "metadata": {
        "id": "1AC2bUMHJFus",
        "colab_type": "text"
      },
      "source": [
        "# Train all Teacher Model."
      ]
    },
    {
      "cell_type": "code",
      "metadata": {
        "id": "ir8dQFaGIeLi",
        "colab_type": "code",
        "colab": {
          "base_uri": "https://localhost:8080/",
          "height": 1000
        },
        "outputId": "ec5d1470-1578-4f99-d9fb-f4e8bec5ef36"
      },
      "source": [
        "teacher_models = []\n",
        "\n",
        "for i in range(num_teacher):\n",
        "  print(\"Training Teacher #\", i+1)\n",
        "  model = Net()\n",
        "  criterion = nn.NLLLoss()\n",
        "  optimizer = optim.Adam(model.parameters(), lr=0.001)\n",
        "  train(model, teacher_loader[i], criterion, optimizer)\n",
        "  teacher_models.append(model)"
      ],
      "execution_count": 70,
      "outputs": [
        {
          "output_type": "stream",
          "text": [
            "Training Teacher # 1\n"
          ],
          "name": "stdout"
        },
        {
          "output_type": "stream",
          "text": [
            "/usr/local/lib/python3.6/dist-packages/ipykernel_launcher.py:56: UserWarning: Implicit dimension choice for log_softmax has been deprecated. Change the call to include dim=X as an argument.\n"
          ],
          "name": "stderr"
        },
        {
          "output_type": "stream",
          "text": [
            "Training Teacher # 2\n",
            "Training Teacher # 3\n",
            "Training Teacher # 4\n",
            "Training Teacher # 5\n",
            "Training Teacher # 6\n",
            "Training Teacher # 7\n",
            "Training Teacher # 8\n",
            "Training Teacher # 9\n",
            "Training Teacher # 10\n",
            "Training Teacher # 11\n",
            "Training Teacher # 12\n",
            "Training Teacher # 13\n",
            "Training Teacher # 14\n",
            "Training Teacher # 15\n",
            "Training Teacher # 16\n",
            "Training Teacher # 17\n",
            "Training Teacher # 18\n",
            "Training Teacher # 19\n",
            "Training Teacher # 20\n",
            "Training Teacher # 21\n",
            "Training Teacher # 22\n",
            "Training Teacher # 23\n",
            "Training Teacher # 24\n",
            "Training Teacher # 25\n",
            "Training Teacher # 26\n",
            "Training Teacher # 27\n",
            "Training Teacher # 28\n",
            "Training Teacher # 29\n",
            "Training Teacher # 30\n",
            "Training Teacher # 31\n",
            "Training Teacher # 32\n",
            "Training Teacher # 33\n",
            "Training Teacher # 34\n",
            "Training Teacher # 35\n",
            "Training Teacher # 36\n",
            "Training Teacher # 37\n",
            "Training Teacher # 38\n",
            "Training Teacher # 39\n",
            "Training Teacher # 40\n",
            "Training Teacher # 41\n",
            "Training Teacher # 42\n",
            "Training Teacher # 43\n",
            "Training Teacher # 44\n",
            "Training Teacher # 45\n",
            "Training Teacher # 46\n",
            "Training Teacher # 47\n",
            "Training Teacher # 48\n",
            "Training Teacher # 49\n",
            "Training Teacher # 50\n",
            "Training Teacher # 51\n",
            "Training Teacher # 52\n",
            "Training Teacher # 53\n",
            "Training Teacher # 54\n",
            "Training Teacher # 55\n",
            "Training Teacher # 56\n",
            "Training Teacher # 57\n",
            "Training Teacher # 58\n",
            "Training Teacher # 59\n",
            "Training Teacher # 60\n",
            "Training Teacher # 61\n",
            "Training Teacher # 62\n",
            "Training Teacher # 63\n",
            "Training Teacher # 64\n",
            "Training Teacher # 65\n",
            "Training Teacher # 66\n",
            "Training Teacher # 67\n",
            "Training Teacher # 68\n",
            "Training Teacher # 69\n",
            "Training Teacher # 70\n",
            "Training Teacher # 71\n",
            "Training Teacher # 72\n",
            "Training Teacher # 73\n",
            "Training Teacher # 74\n",
            "Training Teacher # 75\n",
            "Training Teacher # 76\n",
            "Training Teacher # 77\n",
            "Training Teacher # 78\n",
            "Training Teacher # 79\n",
            "Training Teacher # 80\n",
            "Training Teacher # 81\n",
            "Training Teacher # 82\n",
            "Training Teacher # 83\n",
            "Training Teacher # 84\n",
            "Training Teacher # 85\n",
            "Training Teacher # 86\n",
            "Training Teacher # 87\n",
            "Training Teacher # 88\n",
            "Training Teacher # 89\n",
            "Training Teacher # 90\n",
            "Training Teacher # 91\n",
            "Training Teacher # 92\n",
            "Training Teacher # 93\n",
            "Training Teacher # 94\n",
            "Training Teacher # 95\n",
            "Training Teacher # 96\n",
            "Training Teacher # 97\n",
            "Training Teacher # 98\n",
            "Training Teacher # 99\n",
            "Training Teacher # 100\n"
          ],
          "name": "stdout"
        }
      ]
    },
    {
      "cell_type": "markdown",
      "metadata": {
        "id": "rep9950iOZO1",
        "colab_type": "text"
      },
      "source": [
        "# Aggregate Teacher"
      ]
    },
    {
      "cell_type": "code",
      "metadata": {
        "id": "r3AzQeZSLzp6",
        "colab_type": "code",
        "colab": {
          "base_uri": "https://localhost:8080/",
          "height": 55
        },
        "outputId": "a7106df5-1ab5-4102-edcd-60a6411fd9d9"
      },
      "source": [
        "epsilon = 0.2\n",
        "\n",
        "preds = torch.torch.zeros((len(teacher_models), train_size) , dtype = torch.long)\n",
        "\n",
        "for i, model in enumerate(teacher_models):\n",
        "  results = predict(model , student_train_loader)\n",
        "  preds[i] = results"
      ],
      "execution_count": 73,
      "outputs": [
        {
          "output_type": "stream",
          "text": [
            "/usr/local/lib/python3.6/dist-packages/ipykernel_launcher.py:56: UserWarning: Implicit dimension choice for log_softmax has been deprecated. Change the call to include dim=X as an argument.\n"
          ],
          "name": "stderr"
        }
      ]
    },
    {
      "cell_type": "code",
      "metadata": {
        "id": "pEaXAdSCVcg_",
        "colab_type": "code",
        "colab": {}
      },
      "source": [
        "labels = np.array([]).astype(int)\n",
        "for image_preds in np.transpose(preds):\n",
        "  labels_counts = np.bincount(image_preds , minlength = 10)\n",
        "  beta = 1/epsilon\n",
        "  \n",
        "  for i in range(len(labels_counts)):\n",
        "    labels_counts[i] += np.random.laplace(0, beta, 1)\n",
        "    \n",
        "  new_labels = np.argmax(labels_counts)\n",
        "  labels = np.append(labels , new_labels)\n",
        "  "
      ],
      "execution_count": 0,
      "outputs": []
    },
    {
      "cell_type": "code",
      "metadata": {
        "id": "VQy9FZYeXxqz",
        "colab_type": "code",
        "colab": {
          "base_uri": "https://localhost:8080/",
          "height": 1000
        },
        "outputId": "eb65eef8-f900-4c8d-ba23-bf9f500a1280"
      },
      "source": [
        "PATE_labels = labels # Aggregate Teacher Labels   \n",
        "true_labels = test_data.targets[:train_size] # True Labels\n",
        "PATE_preds = preds # Labels Obtained by Teachers\n",
        "\n",
        "print(preds.shape)\n",
        "print(labels.shape)\n",
        "print(\"All Teacher Predicted Labels\\n\", preds)\n",
        "print(\"Aggregate Teacher Labels\\n\", torch.tensor(PATE_labels))\n",
        "print(\"True Labels\\n\", true_labels)"
      ],
      "execution_count": 75,
      "outputs": [
        {
          "output_type": "stream",
          "text": [
            "torch.Size([100, 500])\n",
            "(500,)\n",
            "All Teacher Predicted Labels\n",
            " tensor([[7, 2, 1,  ..., 9, 6, 6],\n",
            "        [7, 2, 1,  ..., 9, 0, 6],\n",
            "        [7, 2, 1,  ..., 9, 0, 6],\n",
            "        ...,\n",
            "        [7, 2, 1,  ..., 9, 0, 6],\n",
            "        [7, 2, 1,  ..., 1, 0, 6],\n",
            "        [7, 8, 1,  ..., 4, 9, 6]])\n",
            "Aggregate Teacher Labels\n",
            " tensor([7, 2, 1, 0, 4, 1, 4, 9, 5, 9, 0, 6, 9, 0, 1, 5, 9, 7, 3, 4, 9, 6, 6, 5,\n",
            "        4, 0, 7, 4, 0, 1, 3, 1, 3, 6, 7, 2, 7, 1, 2, 1, 1, 7, 4, 2, 3, 5, 1, 2,\n",
            "        4, 4, 6, 3, 5, 5, 6, 0, 4, 1, 9, 5, 7, 8, 4, 3, 7, 4, 6, 4, 3, 0, 7, 0,\n",
            "        2, 8, 1, 7, 3, 7, 9, 7, 9, 6, 2, 7, 8, 4, 7, 3, 6, 1, 3, 6, 4, 3, 1, 4,\n",
            "        1, 7, 6, 9, 6, 0, 5, 4, 9, 9, 2, 1, 9, 4, 8, 7, 3, 9, 7, 4, 4, 4, 9, 2,\n",
            "        5, 4, 7, 6, 9, 9, 0, 5, 8, 5, 6, 6, 5, 7, 8, 1, 0, 1, 6, 4, 6, 7, 3, 1,\n",
            "        7, 1, 8, 2, 0, 4, 9, 9, 5, 5, 1, 5, 6, 0, 3, 4, 4, 6, 5, 4, 6, 5, 4, 5,\n",
            "        1, 4, 4, 7, 2, 3, 2, 1, 1, 8, 1, 8, 1, 8, 5, 0, 8, 9, 2, 5, 0, 1, 1, 1,\n",
            "        0, 9, 0, 1, 1, 6, 4, 2, 3, 6, 1, 1, 1, 3, 9, 5, 2, 9, 4, 5, 9, 3, 9, 0,\n",
            "        3, 5, 5, 5, 7, 2, 2, 7, 1, 2, 8, 4, 1, 7, 3, 3, 8, 7, 7, 9, 2, 2, 4, 1,\n",
            "        5, 8, 8, 9, 2, 5, 0, 6, 4, 2, 9, 1, 9, 5, 7, 7, 2, 8, 2, 0, 8, 5, 7, 7,\n",
            "        9, 1, 8, 1, 8, 0, 3, 0, 1, 9, 9, 4, 1, 8, 2, 1, 2, 9, 7, 5, 9, 2, 6, 4,\n",
            "        1, 5, 4, 2, 9, 2, 0, 4, 0, 0, 2, 8, 6, 7, 1, 2, 9, 0, 2, 7, 4, 3, 3, 0,\n",
            "        0, 5, 1, 9, 6, 5, 3, 5, 7, 7, 9, 3, 0, 4, 6, 0, 7, 1, 1, 2, 1, 5, 3, 3,\n",
            "        9, 7, 8, 6, 3, 4, 1, 3, 8, 1, 0, 5, 1, 7, 1, 5, 5, 6, 1, 8, 5, 1, 7, 9,\n",
            "        4, 6, 7, 2, 5, 0, 6, 5, 6, 3, 7, 2, 0, 8, 8, 5, 4, 1, 1, 4, 0, 3, 3, 7,\n",
            "        6, 1, 5, 2, 1, 9, 2, 8, 6, 1, 9, 5, 2, 5, 4, 4, 2, 8, 3, 9, 2, 4, 5, 0,\n",
            "        3, 1, 7, 7, 3, 7, 9, 7, 1, 9, 2, 1, 4, 2, 9, 2, 0, 4, 9, 1, 4, 8, 1, 8,\n",
            "        4, 5, 9, 7, 8, 3, 7, 6, 0, 0, 3, 0, 2, 0, 6, 4, 8, 5, 3, 3, 2, 3, 9, 1,\n",
            "        2, 5, 8, 0, 5, 6, 6, 6, 7, 8, 8, 2, 7, 5, 8, 9, 6, 1, 8, 4, 1, 2, 6, 3,\n",
            "        1, 9, 7, 5, 4, 0, 8, 9, 9, 1, 0, 5, 2, 3, 7, 8, 9, 4, 0, 6])\n",
            "True Labels\n",
            " tensor([7, 2, 1, 0, 4, 1, 4, 9, 5, 9, 0, 6, 9, 0, 1, 5, 9, 7, 3, 4, 9, 6, 6, 5,\n",
            "        4, 0, 7, 4, 0, 1, 3, 1, 3, 4, 7, 2, 7, 1, 2, 1, 1, 7, 4, 2, 3, 5, 1, 2,\n",
            "        4, 4, 6, 3, 5, 5, 6, 0, 4, 1, 9, 5, 7, 8, 9, 3, 7, 4, 6, 4, 3, 0, 7, 0,\n",
            "        2, 9, 1, 7, 3, 2, 9, 7, 7, 6, 2, 7, 8, 4, 7, 3, 6, 1, 3, 6, 9, 3, 1, 4,\n",
            "        1, 7, 6, 9, 6, 0, 5, 4, 9, 9, 2, 1, 9, 4, 8, 7, 3, 9, 7, 4, 4, 4, 9, 2,\n",
            "        5, 4, 7, 6, 7, 9, 0, 5, 8, 5, 6, 6, 5, 7, 8, 1, 0, 1, 6, 4, 6, 7, 3, 1,\n",
            "        7, 1, 8, 2, 0, 2, 9, 9, 5, 5, 1, 5, 6, 0, 3, 4, 4, 6, 5, 4, 6, 5, 4, 5,\n",
            "        1, 4, 4, 7, 2, 3, 2, 7, 1, 8, 1, 8, 1, 8, 5, 0, 8, 9, 2, 5, 0, 1, 1, 1,\n",
            "        0, 9, 0, 3, 1, 6, 4, 2, 3, 6, 1, 1, 1, 3, 9, 5, 2, 9, 4, 5, 9, 3, 9, 0,\n",
            "        3, 6, 5, 5, 7, 2, 2, 7, 1, 2, 8, 4, 1, 7, 3, 3, 8, 8, 7, 9, 2, 2, 4, 1,\n",
            "        5, 9, 8, 7, 2, 3, 0, 4, 4, 2, 4, 1, 9, 5, 7, 7, 2, 8, 2, 6, 8, 5, 7, 7,\n",
            "        9, 1, 8, 1, 8, 0, 3, 0, 1, 9, 9, 4, 1, 8, 2, 1, 2, 9, 7, 5, 9, 2, 6, 4,\n",
            "        1, 5, 8, 2, 9, 2, 0, 4, 0, 0, 2, 8, 4, 7, 1, 2, 4, 0, 2, 7, 4, 3, 3, 0,\n",
            "        0, 3, 1, 9, 6, 5, 2, 5, 9, 2, 9, 3, 0, 4, 2, 0, 7, 1, 1, 2, 1, 5, 3, 3,\n",
            "        9, 7, 8, 6, 5, 6, 1, 3, 8, 1, 0, 5, 1, 3, 1, 5, 5, 6, 1, 8, 5, 1, 7, 9,\n",
            "        4, 6, 2, 2, 5, 0, 6, 5, 6, 3, 7, 2, 0, 8, 8, 5, 4, 1, 1, 4, 0, 3, 3, 7,\n",
            "        6, 1, 6, 2, 1, 9, 2, 8, 6, 1, 9, 5, 2, 5, 4, 4, 2, 8, 3, 8, 2, 4, 5, 0,\n",
            "        3, 1, 7, 7, 5, 7, 9, 7, 1, 9, 2, 1, 4, 2, 9, 2, 0, 4, 9, 1, 4, 8, 1, 8,\n",
            "        4, 5, 9, 8, 8, 3, 7, 6, 0, 0, 3, 0, 2, 6, 6, 4, 9, 3, 3, 3, 2, 3, 9, 1,\n",
            "        2, 6, 8, 0, 5, 6, 6, 6, 3, 8, 8, 2, 7, 5, 8, 9, 6, 1, 8, 4, 1, 2, 5, 9,\n",
            "        1, 9, 7, 5, 4, 0, 8, 9, 9, 1, 0, 5, 2, 3, 7, 8, 9, 4, 0, 6])\n"
          ],
          "name": "stdout"
        }
      ]
    },
    {
      "cell_type": "code",
      "metadata": {
        "id": "EhjUyZIBX2E_",
        "colab_type": "code",
        "colab": {
          "base_uri": "https://localhost:8080/",
          "height": 345
        },
        "outputId": "5179dbf0-18c1-44d9-b9e0-53581ab16342"
      },
      "source": [
        "dat_dep_eps, data_ind_eps = pate.perform_analysis(teacher_preds = PATE_preds, indices = PATE_labels, noise_eps = epsilon, delta = 1e-5, moments = 10)\n"
      ],
      "execution_count": 80,
      "outputs": [
        {
          "output_type": "error",
          "ename": "KeyboardInterrupt",
          "evalue": "ignored",
          "traceback": [
            "\u001b[0;31m---------------------------------------------------------------------------\u001b[0m",
            "\u001b[0;31mKeyboardInterrupt\u001b[0m                         Traceback (most recent call last)",
            "\u001b[0;32m<ipython-input-80-3238732097a7>\u001b[0m in \u001b[0;36m<module>\u001b[0;34m()\u001b[0m\n\u001b[0;32m----> 1\u001b[0;31m \u001b[0mdat_dep_eps\u001b[0m\u001b[0;34m,\u001b[0m \u001b[0mdata_ind_eps\u001b[0m \u001b[0;34m=\u001b[0m \u001b[0mpate\u001b[0m\u001b[0;34m.\u001b[0m\u001b[0mperform_analysis\u001b[0m\u001b[0;34m(\u001b[0m\u001b[0mteacher_preds\u001b[0m \u001b[0;34m=\u001b[0m \u001b[0mPATE_preds\u001b[0m\u001b[0;34m,\u001b[0m \u001b[0mindices\u001b[0m \u001b[0;34m=\u001b[0m \u001b[0mPATE_labels\u001b[0m\u001b[0;34m,\u001b[0m \u001b[0mnoise_eps\u001b[0m \u001b[0;34m=\u001b[0m \u001b[0mepsilon\u001b[0m\u001b[0;34m,\u001b[0m \u001b[0mdelta\u001b[0m \u001b[0;34m=\u001b[0m \u001b[0;36m1e-5\u001b[0m\u001b[0;34m,\u001b[0m \u001b[0mmoments\u001b[0m \u001b[0;34m=\u001b[0m \u001b[0;36m10\u001b[0m\u001b[0;34m)\u001b[0m\u001b[0;34m\u001b[0m\u001b[0;34m\u001b[0m\u001b[0m\n\u001b[0m",
            "\u001b[0;32m/usr/local/lib/python3.6/dist-packages/syft/frameworks/torch/differential_privacy/pate.py\u001b[0m in \u001b[0;36mperform_analysis\u001b[0;34m(teacher_preds, indices, noise_eps, delta, moments, beta)\u001b[0m\n\u001b[1;32m    235\u001b[0m         )\n\u001b[1;32m    236\u001b[0m \u001b[0;34m\u001b[0m\u001b[0m\n\u001b[0;32m--> 237\u001b[0;31m         \u001b[0mtotal_ss_nm\u001b[0m \u001b[0;34m+=\u001b[0m \u001b[0mnp\u001b[0m\u001b[0;34m.\u001b[0m\u001b[0marray\u001b[0m\u001b[0;34m(\u001b[0m\u001b[0;34m[\u001b[0m\u001b[0msmoothed_sens\u001b[0m\u001b[0;34m(\u001b[0m\u001b[0mcounts_mat\u001b[0m\u001b[0;34m[\u001b[0m\u001b[0mi\u001b[0m\u001b[0;34m]\u001b[0m\u001b[0;34m,\u001b[0m \u001b[0mnoise_eps\u001b[0m\u001b[0;34m,\u001b[0m \u001b[0ml\u001b[0m\u001b[0;34m,\u001b[0m \u001b[0mbeta\u001b[0m\u001b[0;34m)\u001b[0m \u001b[0;32mfor\u001b[0m \u001b[0ml\u001b[0m \u001b[0;32min\u001b[0m \u001b[0ml_list\u001b[0m\u001b[0;34m]\u001b[0m\u001b[0;34m)\u001b[0m\u001b[0;34m\u001b[0m\u001b[0;34m\u001b[0m\u001b[0m\n\u001b[0m\u001b[1;32m    238\u001b[0m \u001b[0;34m\u001b[0m\u001b[0m\n\u001b[1;32m    239\u001b[0m     \u001b[0;31m# We want delta = exp(alpha - eps l).\u001b[0m\u001b[0;34m\u001b[0m\u001b[0;34m\u001b[0m\u001b[0;34m\u001b[0m\u001b[0m\n",
            "\u001b[0;32m/usr/local/lib/python3.6/dist-packages/syft/frameworks/torch/differential_privacy/pate.py\u001b[0m in \u001b[0;36m<listcomp>\u001b[0;34m(.0)\u001b[0m\n\u001b[1;32m    235\u001b[0m         )\n\u001b[1;32m    236\u001b[0m \u001b[0;34m\u001b[0m\u001b[0m\n\u001b[0;32m--> 237\u001b[0;31m         \u001b[0mtotal_ss_nm\u001b[0m \u001b[0;34m+=\u001b[0m \u001b[0mnp\u001b[0m\u001b[0;34m.\u001b[0m\u001b[0marray\u001b[0m\u001b[0;34m(\u001b[0m\u001b[0;34m[\u001b[0m\u001b[0msmoothed_sens\u001b[0m\u001b[0;34m(\u001b[0m\u001b[0mcounts_mat\u001b[0m\u001b[0;34m[\u001b[0m\u001b[0mi\u001b[0m\u001b[0;34m]\u001b[0m\u001b[0;34m,\u001b[0m \u001b[0mnoise_eps\u001b[0m\u001b[0;34m,\u001b[0m \u001b[0ml\u001b[0m\u001b[0;34m,\u001b[0m \u001b[0mbeta\u001b[0m\u001b[0;34m)\u001b[0m \u001b[0;32mfor\u001b[0m \u001b[0ml\u001b[0m \u001b[0;32min\u001b[0m \u001b[0ml_list\u001b[0m\u001b[0;34m]\u001b[0m\u001b[0;34m)\u001b[0m\u001b[0;34m\u001b[0m\u001b[0;34m\u001b[0m\u001b[0m\n\u001b[0m\u001b[1;32m    238\u001b[0m \u001b[0;34m\u001b[0m\u001b[0m\n\u001b[1;32m    239\u001b[0m     \u001b[0;31m# We want delta = exp(alpha - eps l).\u001b[0m\u001b[0;34m\u001b[0m\u001b[0;34m\u001b[0m\u001b[0;34m\u001b[0m\u001b[0m\n",
            "\u001b[0;32m/usr/local/lib/python3.6/dist-packages/syft/frameworks/torch/differential_privacy/pate.py\u001b[0m in \u001b[0;36msmoothed_sens\u001b[0;34m(counts, noise_eps, l, beta)\u001b[0m\n\u001b[1;32m    185\u001b[0m   \"\"\"\n\u001b[1;32m    186\u001b[0m     \u001b[0mk\u001b[0m \u001b[0;34m=\u001b[0m \u001b[0;36m0\u001b[0m\u001b[0;34m\u001b[0m\u001b[0;34m\u001b[0m\u001b[0m\n\u001b[0;32m--> 187\u001b[0;31m     \u001b[0msmoothed_sensitivity\u001b[0m \u001b[0;34m=\u001b[0m \u001b[0msens_at_k\u001b[0m\u001b[0;34m(\u001b[0m\u001b[0mcounts\u001b[0m\u001b[0;34m,\u001b[0m \u001b[0mnoise_eps\u001b[0m\u001b[0;34m,\u001b[0m \u001b[0ml\u001b[0m\u001b[0;34m,\u001b[0m \u001b[0mk\u001b[0m\u001b[0;34m)\u001b[0m\u001b[0;34m\u001b[0m\u001b[0;34m\u001b[0m\u001b[0m\n\u001b[0m\u001b[1;32m    188\u001b[0m     \u001b[0;32mwhile\u001b[0m \u001b[0mk\u001b[0m \u001b[0;34m<\u001b[0m \u001b[0mmax\u001b[0m\u001b[0;34m(\u001b[0m\u001b[0mcounts\u001b[0m\u001b[0;34m)\u001b[0m\u001b[0;34m:\u001b[0m\u001b[0;34m\u001b[0m\u001b[0;34m\u001b[0m\u001b[0m\n\u001b[1;32m    189\u001b[0m         \u001b[0mk\u001b[0m \u001b[0;34m+=\u001b[0m \u001b[0;36m1\u001b[0m\u001b[0;34m\u001b[0m\u001b[0;34m\u001b[0m\u001b[0m\n",
            "\u001b[0;32m/usr/local/lib/python3.6/dist-packages/syft/frameworks/torch/differential_privacy/pate.py\u001b[0m in \u001b[0;36msens_at_k\u001b[0;34m(counts, noise_eps, l, k)\u001b[0m\n\u001b[1;32m    169\u001b[0m     \u001b[0mcounts_sorted\u001b[0m\u001b[0;34m[\u001b[0m\u001b[0;36m0\u001b[0m\u001b[0;34m]\u001b[0m \u001b[0;34m-=\u001b[0m \u001b[0;36m1\u001b[0m\u001b[0;34m\u001b[0m\u001b[0;34m\u001b[0m\u001b[0m\n\u001b[1;32m    170\u001b[0m     \u001b[0mcounts_sorted\u001b[0m\u001b[0;34m[\u001b[0m\u001b[0;36m1\u001b[0m\u001b[0;34m]\u001b[0m \u001b[0;34m+=\u001b[0m \u001b[0;36m1\u001b[0m\u001b[0;34m\u001b[0m\u001b[0;34m\u001b[0m\u001b[0m\n\u001b[0;32m--> 171\u001b[0;31m     \u001b[0mval_changed\u001b[0m \u001b[0;34m=\u001b[0m \u001b[0mlogmgf_from_counts\u001b[0m\u001b[0;34m(\u001b[0m\u001b[0mcounts_sorted\u001b[0m\u001b[0;34m,\u001b[0m \u001b[0mnoise_eps\u001b[0m\u001b[0;34m,\u001b[0m \u001b[0ml\u001b[0m\u001b[0;34m)\u001b[0m\u001b[0;34m\u001b[0m\u001b[0;34m\u001b[0m\u001b[0m\n\u001b[0m\u001b[1;32m    172\u001b[0m     \u001b[0;32mreturn\u001b[0m \u001b[0mval_changed\u001b[0m \u001b[0;34m-\u001b[0m \u001b[0mval\u001b[0m\u001b[0;34m\u001b[0m\u001b[0;34m\u001b[0m\u001b[0m\n\u001b[1;32m    173\u001b[0m \u001b[0;34m\u001b[0m\u001b[0m\n",
            "\u001b[0;32m/usr/local/lib/python3.6/dist-packages/syft/frameworks/torch/differential_privacy/pate.py\u001b[0m in \u001b[0;36mlogmgf_from_counts\u001b[0;34m(counts, noise_eps, l)\u001b[0m\n\u001b[1;32m    140\u001b[0m   \"\"\"\n\u001b[1;32m    141\u001b[0m \u001b[0;34m\u001b[0m\u001b[0m\n\u001b[0;32m--> 142\u001b[0;31m     \u001b[0mq\u001b[0m \u001b[0;34m=\u001b[0m \u001b[0mcompute_q_noisy_max\u001b[0m\u001b[0;34m(\u001b[0m\u001b[0mcounts\u001b[0m\u001b[0;34m,\u001b[0m \u001b[0mnoise_eps\u001b[0m\u001b[0;34m)\u001b[0m\u001b[0;34m\u001b[0m\u001b[0;34m\u001b[0m\u001b[0m\n\u001b[0m\u001b[1;32m    143\u001b[0m     \u001b[0;32mreturn\u001b[0m \u001b[0mlogmgf_exact\u001b[0m\u001b[0;34m(\u001b[0m\u001b[0mq\u001b[0m\u001b[0;34m,\u001b[0m \u001b[0;36m2.0\u001b[0m \u001b[0;34m*\u001b[0m \u001b[0mnoise_eps\u001b[0m\u001b[0;34m,\u001b[0m \u001b[0ml\u001b[0m\u001b[0;34m)\u001b[0m\u001b[0;34m\u001b[0m\u001b[0;34m\u001b[0m\u001b[0m\n\u001b[1;32m    144\u001b[0m \u001b[0;34m\u001b[0m\u001b[0m\n",
            "\u001b[0;32m/usr/local/lib/python3.6/dist-packages/syft/frameworks/torch/differential_privacy/pate.py\u001b[0m in \u001b[0;36mcompute_q_noisy_max\u001b[0;34m(counts, noise_eps)\u001b[0m\n\u001b[1;32m     73\u001b[0m         \u001b[0mgap\u001b[0m \u001b[0;34m=\u001b[0m \u001b[0;34m-\u001b[0m\u001b[0mc\u001b[0m\u001b[0;34m\u001b[0m\u001b[0;34m\u001b[0m\u001b[0m\n\u001b[1;32m     74\u001b[0m \u001b[0;34m\u001b[0m\u001b[0m\n\u001b[0;32m---> 75\u001b[0;31m         \u001b[0mq\u001b[0m \u001b[0;34m+=\u001b[0m \u001b[0;34m(\u001b[0m\u001b[0mgap\u001b[0m \u001b[0;34m+\u001b[0m \u001b[0;36m2.0\u001b[0m\u001b[0;34m)\u001b[0m \u001b[0;34m/\u001b[0m \u001b[0;34m(\u001b[0m\u001b[0;36m4.0\u001b[0m \u001b[0;34m*\u001b[0m \u001b[0mmath\u001b[0m\u001b[0;34m.\u001b[0m\u001b[0mexp\u001b[0m\u001b[0;34m(\u001b[0m\u001b[0mgap\u001b[0m\u001b[0;34m)\u001b[0m\u001b[0;34m)\u001b[0m\u001b[0;34m\u001b[0m\u001b[0;34m\u001b[0m\u001b[0m\n\u001b[0m\u001b[1;32m     76\u001b[0m \u001b[0;34m\u001b[0m\u001b[0m\n\u001b[1;32m     77\u001b[0m     \u001b[0;32mreturn\u001b[0m \u001b[0mmin\u001b[0m\u001b[0;34m(\u001b[0m\u001b[0mq\u001b[0m\u001b[0;34m,\u001b[0m \u001b[0;36m1.0\u001b[0m \u001b[0;34m-\u001b[0m \u001b[0;34m(\u001b[0m\u001b[0;36m1.0\u001b[0m \u001b[0;34m/\u001b[0m \u001b[0mlen\u001b[0m\u001b[0;34m(\u001b[0m\u001b[0mcounts\u001b[0m\u001b[0;34m)\u001b[0m\u001b[0;34m)\u001b[0m\u001b[0;34m)\u001b[0m\u001b[0;34m\u001b[0m\u001b[0;34m\u001b[0m\u001b[0m\n",
            "\u001b[0;31mKeyboardInterrupt\u001b[0m: "
          ]
        }
      ]
    },
    {
      "cell_type": "code",
      "metadata": {
        "id": "D0vZKDH0Yn7l",
        "colab_type": "code",
        "colab": {}
      },
      "source": [
        "print(\"Data Independent Epsilon:\", data_ind_eps)\n",
        "print(\"Data Dependent Epsilon:\", dat_dep_eps)\n",
        "# Data Independent Epsilon: 91.51292546497024\n",
        "# Data Dependent Epsilon: 39.729444099007154"
      ],
      "execution_count": 0,
      "outputs": []
    },
    {
      "cell_type": "code",
      "metadata": {
        "id": "EzBxH2w7fqL9",
        "colab_type": "code",
        "colab": {}
      },
      "source": [
        "data = torch.FloatTensor(test_data.data.clone().detach().numpy()[:train_size])\n",
        "targets = torch.tensor(labels)\n",
        "\n",
        "test_data.targets[:train_size] = targets\n",
        "\n",
        "student_train_data = Subset(test_data, list(range(train_size)))\n",
        "student_train_loader = torch.utils.data.DataLoader(student_train_data, batch_size=batch_size, num_workers = num_workers )"
      ],
      "execution_count": 0,
      "outputs": []
    },
    {
      "cell_type": "code",
      "metadata": {
        "id": "twK55EjLH0hf",
        "colab_type": "code",
        "colab": {
          "base_uri": "https://localhost:8080/",
          "height": 202
        },
        "outputId": "7e8b75a9-7b7c-4722-b4a4-aa493ab44160"
      },
      "source": [
        "\n",
        "student_model = Net()\n",
        "criterion = nn.NLLLoss()\n",
        "optimizer = optim.Adam(student_model.parameters(), lr=0.002)\n",
        "epochs = 25\n",
        "train(student_model, student_train_loader, criterion, optimizer, epochs, student_test_loader)\n",
        "# train(model, trainloader, criterion, optimizer, epochs = 10, testloader = None)"
      ],
      "execution_count": 77,
      "outputs": [
        {
          "output_type": "stream",
          "text": [
            "/usr/local/lib/python3.6/dist-packages/ipykernel_launcher.py:56: UserWarning: Implicit dimension choice for log_softmax has been deprecated. Change the call to include dim=X as an argument.\n"
          ],
          "name": "stderr"
        },
        {
          "output_type": "stream",
          "text": [
            "Epoch: 4/25..  Training Loss: 5.088..  Test Loss: 0.739..  Test Accuracy: 0.762\n",
            "Epoch: 7/25..  Training Loss: 1.083..  Test Loss: 0.484..  Test Accuracy: 0.845\n",
            "Epoch: 10/25..  Training Loss: 0.195..  Test Loss: 0.461..  Test Accuracy: 0.883\n",
            "Epoch: 13/25..  Training Loss: 0.044..  Test Loss: 0.517..  Test Accuracy: 0.899\n",
            "Epoch: 16/25..  Training Loss: 0.050..  Test Loss: 0.612..  Test Accuracy: 0.876\n",
            "Epoch: 19/25..  Training Loss: 0.101..  Test Loss: 0.540..  Test Accuracy: 0.887\n",
            "Epoch: 22/25..  Training Loss: 0.051..  Test Loss: 0.593..  Test Accuracy: 0.894\n",
            "Epoch: 25/25..  Training Loss: 0.025..  Test Loss: 0.562..  Test Accuracy: 0.902\n"
          ],
          "name": "stdout"
        }
      ]
    },
    {
      "cell_type": "code",
      "metadata": {
        "id": "VwPQjmnfJa6I",
        "colab_type": "code",
        "colab": {
          "base_uri": "https://localhost:8080/",
          "height": 74
        },
        "outputId": "8a2defe6-24f1-41ae-91b1-8e24be11634f"
      },
      "source": [
        "test_loss = 0\n",
        "accuracy = 0\n",
        "with torch.no_grad():\n",
        "  for images, labels in student_test_loader:\n",
        "    images, labels = images.to(device) , labels.to(device)\n",
        "    # images = images.view(images.shape[0], -1)\n",
        "    log_ps = student_model(images)\n",
        "    test_loss += criterion(log_ps, labels).item()\n",
        "    \n",
        "    #accuracy\n",
        "    ps = torch.exp(log_ps)\n",
        "    top_p, top_class = ps.topk(1, dim=1)\n",
        "    equals = top_class == labels.view(*top_class.shape)\n",
        "    accuracy += torch.mean(equals.type(torch.FloatTensor))\n",
        "student_model.train()\n",
        "print(\"Test Loss: {:.3f}.. \".format(test_loss/len(student_test_loader)),\n",
        "      \"Test Accuracy: {:.3f}\".format(accuracy/len(student_test_loader)))\n",
        "running_loss = 0"
      ],
      "execution_count": 79,
      "outputs": [
        {
          "output_type": "stream",
          "text": [
            "Test Loss: 0.562..  Test Accuracy: 0.902\n"
          ],
          "name": "stdout"
        },
        {
          "output_type": "stream",
          "text": [
            "/usr/local/lib/python3.6/dist-packages/ipykernel_launcher.py:56: UserWarning: Implicit dimension choice for log_softmax has been deprecated. Change the call to include dim=X as an argument.\n"
          ],
          "name": "stderr"
        }
      ]
    },
    {
      "cell_type": "code",
      "metadata": {
        "id": "3EYG6_aVO3hN",
        "colab_type": "code",
        "colab": {}
      },
      "source": [
        ""
      ],
      "execution_count": 0,
      "outputs": []
    }
  ]
}